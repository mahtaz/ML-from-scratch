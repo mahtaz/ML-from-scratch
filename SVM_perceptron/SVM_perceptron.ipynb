{
  "nbformat": 4,
  "nbformat_minor": 0,
  "metadata": {
    "kernelspec": {
      "display_name": "Python 3",
      "language": "python",
      "name": "python3"
    },
    "language_info": {
      "codemirror_mode": {
        "name": "ipython",
        "version": 3
      },
      "file_extension": ".py",
      "mimetype": "text/x-python",
      "name": "python",
      "nbconvert_exporter": "python",
      "pygments_lexer": "ipython3",
      "version": "3.7.3"
    },
    "varInspector": {
      "cols": {
        "lenName": 16,
        "lenType": 16,
        "lenVar": 40
      },
      "kernels_config": {
        "python": {
          "delete_cmd_postfix": "",
          "delete_cmd_prefix": "del ",
          "library": "var_list.py",
          "varRefreshCmd": "print(var_dic_list())"
        },
        "r": {
          "delete_cmd_postfix": ") ",
          "delete_cmd_prefix": "rm(",
          "library": "var_list.r",
          "varRefreshCmd": "cat(var_dic_list()) "
        }
      },
      "types_to_exclude": [
        "module",
        "function",
        "builtin_function_or_method",
        "instance",
        "_Feature"
      ],
      "window_display": false
    },
    "colab": {
      "name": "SVM_perceptron.ipynb",
      "provenance": [],
      "toc_visible": true
    }
  },
  "cells": [
    {
      "cell_type": "code",
      "metadata": {
        "id": "5CQIwWZ02jFa"
      },
      "source": [
        "# importing libraries\n",
        "import pandas as pd\n",
        "from sklearn.model_selection import train_test_split \n",
        "import numpy as np\n",
        "import matplotlib.pyplot as plt\n",
        "from sklearn.datasets import load_breast_cancer\n",
        "%matplotlib inline\n",
        "plt.rcParams['figure.figsize'] = (10.0, 10.0)"
      ],
      "execution_count": null,
      "outputs": []
    },
    {
      "cell_type": "markdown",
      "metadata": {
        "id": "BkdqUWZ-2jFf"
      },
      "source": [
        "# Problem 1. soft margin SVM\n",
        "### about the Data:<br/>\n",
        "The purpose of this project is to classify tumors into malignant or benign. The following dataset is constructed based on images of tumors. Features are computed from a digitized image of a fine needle aspirate (FNA) of a breast mass.\n",
        "For more details about the features of this dataset you can visit this link:\n",
        "https://scikit-learn.org/stable/datasets/index.html#breast-cancer-dataset<br/>\n",
        "This dataset contains 30 features and 1 label that is called target. We should find a proper hyperplane that separates malignant and benign samples.\n",
        "The original dataset labels is 0 and 1 and in the following code boxes we change it to -1 and 1."
      ]
    },
    {
      "cell_type": "code",
      "metadata": {
        "id": "5rpHNiLC2jFi",
        "outputId": "af7408d8-84e1-415e-819a-2fba36c28e49"
      },
      "source": [
        "cancer = load_breast_cancer()\n",
        "df = pd.DataFrame(np.c_[cancer[\"data\"], cancer[\"target\"]], columns = np.append(cancer[\"feature_names\"],[\"target\"]))\n",
        "df.head()"
      ],
      "execution_count": null,
      "outputs": [
        {
          "output_type": "execute_result",
          "data": {
            "text/html": [
              "<div>\n",
              "<style scoped>\n",
              "    .dataframe tbody tr th:only-of-type {\n",
              "        vertical-align: middle;\n",
              "    }\n",
              "\n",
              "    .dataframe tbody tr th {\n",
              "        vertical-align: top;\n",
              "    }\n",
              "\n",
              "    .dataframe thead th {\n",
              "        text-align: right;\n",
              "    }\n",
              "</style>\n",
              "<table border=\"1\" class=\"dataframe\">\n",
              "  <thead>\n",
              "    <tr style=\"text-align: right;\">\n",
              "      <th></th>\n",
              "      <th>mean radius</th>\n",
              "      <th>mean texture</th>\n",
              "      <th>mean perimeter</th>\n",
              "      <th>mean area</th>\n",
              "      <th>mean smoothness</th>\n",
              "      <th>mean compactness</th>\n",
              "      <th>mean concavity</th>\n",
              "      <th>mean concave points</th>\n",
              "      <th>mean symmetry</th>\n",
              "      <th>mean fractal dimension</th>\n",
              "      <th>...</th>\n",
              "      <th>worst texture</th>\n",
              "      <th>worst perimeter</th>\n",
              "      <th>worst area</th>\n",
              "      <th>worst smoothness</th>\n",
              "      <th>worst compactness</th>\n",
              "      <th>worst concavity</th>\n",
              "      <th>worst concave points</th>\n",
              "      <th>worst symmetry</th>\n",
              "      <th>worst fractal dimension</th>\n",
              "      <th>target</th>\n",
              "    </tr>\n",
              "  </thead>\n",
              "  <tbody>\n",
              "    <tr>\n",
              "      <th>0</th>\n",
              "      <td>17.99</td>\n",
              "      <td>10.38</td>\n",
              "      <td>122.80</td>\n",
              "      <td>1001.0</td>\n",
              "      <td>0.11840</td>\n",
              "      <td>0.27760</td>\n",
              "      <td>0.3001</td>\n",
              "      <td>0.14710</td>\n",
              "      <td>0.2419</td>\n",
              "      <td>0.07871</td>\n",
              "      <td>...</td>\n",
              "      <td>17.33</td>\n",
              "      <td>184.60</td>\n",
              "      <td>2019.0</td>\n",
              "      <td>0.1622</td>\n",
              "      <td>0.6656</td>\n",
              "      <td>0.7119</td>\n",
              "      <td>0.2654</td>\n",
              "      <td>0.4601</td>\n",
              "      <td>0.11890</td>\n",
              "      <td>0.0</td>\n",
              "    </tr>\n",
              "    <tr>\n",
              "      <th>1</th>\n",
              "      <td>20.57</td>\n",
              "      <td>17.77</td>\n",
              "      <td>132.90</td>\n",
              "      <td>1326.0</td>\n",
              "      <td>0.08474</td>\n",
              "      <td>0.07864</td>\n",
              "      <td>0.0869</td>\n",
              "      <td>0.07017</td>\n",
              "      <td>0.1812</td>\n",
              "      <td>0.05667</td>\n",
              "      <td>...</td>\n",
              "      <td>23.41</td>\n",
              "      <td>158.80</td>\n",
              "      <td>1956.0</td>\n",
              "      <td>0.1238</td>\n",
              "      <td>0.1866</td>\n",
              "      <td>0.2416</td>\n",
              "      <td>0.1860</td>\n",
              "      <td>0.2750</td>\n",
              "      <td>0.08902</td>\n",
              "      <td>0.0</td>\n",
              "    </tr>\n",
              "    <tr>\n",
              "      <th>2</th>\n",
              "      <td>19.69</td>\n",
              "      <td>21.25</td>\n",
              "      <td>130.00</td>\n",
              "      <td>1203.0</td>\n",
              "      <td>0.10960</td>\n",
              "      <td>0.15990</td>\n",
              "      <td>0.1974</td>\n",
              "      <td>0.12790</td>\n",
              "      <td>0.2069</td>\n",
              "      <td>0.05999</td>\n",
              "      <td>...</td>\n",
              "      <td>25.53</td>\n",
              "      <td>152.50</td>\n",
              "      <td>1709.0</td>\n",
              "      <td>0.1444</td>\n",
              "      <td>0.4245</td>\n",
              "      <td>0.4504</td>\n",
              "      <td>0.2430</td>\n",
              "      <td>0.3613</td>\n",
              "      <td>0.08758</td>\n",
              "      <td>0.0</td>\n",
              "    </tr>\n",
              "    <tr>\n",
              "      <th>3</th>\n",
              "      <td>11.42</td>\n",
              "      <td>20.38</td>\n",
              "      <td>77.58</td>\n",
              "      <td>386.1</td>\n",
              "      <td>0.14250</td>\n",
              "      <td>0.28390</td>\n",
              "      <td>0.2414</td>\n",
              "      <td>0.10520</td>\n",
              "      <td>0.2597</td>\n",
              "      <td>0.09744</td>\n",
              "      <td>...</td>\n",
              "      <td>26.50</td>\n",
              "      <td>98.87</td>\n",
              "      <td>567.7</td>\n",
              "      <td>0.2098</td>\n",
              "      <td>0.8663</td>\n",
              "      <td>0.6869</td>\n",
              "      <td>0.2575</td>\n",
              "      <td>0.6638</td>\n",
              "      <td>0.17300</td>\n",
              "      <td>0.0</td>\n",
              "    </tr>\n",
              "    <tr>\n",
              "      <th>4</th>\n",
              "      <td>20.29</td>\n",
              "      <td>14.34</td>\n",
              "      <td>135.10</td>\n",
              "      <td>1297.0</td>\n",
              "      <td>0.10030</td>\n",
              "      <td>0.13280</td>\n",
              "      <td>0.1980</td>\n",
              "      <td>0.10430</td>\n",
              "      <td>0.1809</td>\n",
              "      <td>0.05883</td>\n",
              "      <td>...</td>\n",
              "      <td>16.67</td>\n",
              "      <td>152.20</td>\n",
              "      <td>1575.0</td>\n",
              "      <td>0.1374</td>\n",
              "      <td>0.2050</td>\n",
              "      <td>0.4000</td>\n",
              "      <td>0.1625</td>\n",
              "      <td>0.2364</td>\n",
              "      <td>0.07678</td>\n",
              "      <td>0.0</td>\n",
              "    </tr>\n",
              "  </tbody>\n",
              "</table>\n",
              "<p>5 rows × 31 columns</p>\n",
              "</div>"
            ],
            "text/plain": [
              "   mean radius  mean texture  mean perimeter  mean area  mean smoothness  \\\n",
              "0        17.99         10.38          122.80     1001.0          0.11840   \n",
              "1        20.57         17.77          132.90     1326.0          0.08474   \n",
              "2        19.69         21.25          130.00     1203.0          0.10960   \n",
              "3        11.42         20.38           77.58      386.1          0.14250   \n",
              "4        20.29         14.34          135.10     1297.0          0.10030   \n",
              "\n",
              "   mean compactness  mean concavity  mean concave points  mean symmetry  \\\n",
              "0           0.27760          0.3001              0.14710         0.2419   \n",
              "1           0.07864          0.0869              0.07017         0.1812   \n",
              "2           0.15990          0.1974              0.12790         0.2069   \n",
              "3           0.28390          0.2414              0.10520         0.2597   \n",
              "4           0.13280          0.1980              0.10430         0.1809   \n",
              "\n",
              "   mean fractal dimension  ...  worst texture  worst perimeter  worst area  \\\n",
              "0                 0.07871  ...          17.33           184.60      2019.0   \n",
              "1                 0.05667  ...          23.41           158.80      1956.0   \n",
              "2                 0.05999  ...          25.53           152.50      1709.0   \n",
              "3                 0.09744  ...          26.50            98.87       567.7   \n",
              "4                 0.05883  ...          16.67           152.20      1575.0   \n",
              "\n",
              "   worst smoothness  worst compactness  worst concavity  worst concave points  \\\n",
              "0            0.1622             0.6656           0.7119                0.2654   \n",
              "1            0.1238             0.1866           0.2416                0.1860   \n",
              "2            0.1444             0.4245           0.4504                0.2430   \n",
              "3            0.2098             0.8663           0.6869                0.2575   \n",
              "4            0.1374             0.2050           0.4000                0.1625   \n",
              "\n",
              "   worst symmetry  worst fractal dimension  target  \n",
              "0          0.4601                  0.11890     0.0  \n",
              "1          0.2750                  0.08902     0.0  \n",
              "2          0.3613                  0.08758     0.0  \n",
              "3          0.6638                  0.17300     0.0  \n",
              "4          0.2364                  0.07678     0.0  \n",
              "\n",
              "[5 rows x 31 columns]"
            ]
          },
          "metadata": {
            "tags": []
          },
          "execution_count": 3
        }
      ]
    },
    {
      "cell_type": "code",
      "metadata": {
        "id": "msFlxDrX2jFp",
        "outputId": "3ccd64fe-1e88-44e4-ef3c-06932a411d67"
      },
      "source": [
        "cancer.target = np.where(cancer.target==0, -1, cancer.target)# in cancertarget replaces 0 with -1 and doesnt change\n",
        "#anything else\n",
        "y=cancer.target\n",
        "Xs=df[cancer[\"feature_names\"]]\n",
        "X=Xs.values #data frame to np-array\n",
        "X_train ,X_test ,X_val ,y_train ,y_test ,y_val = None ,None ,None ,None ,None ,None\n",
        "################################################################################\n",
        "# TODO: using train_test_split package, split your data into 3 numpy array     #\n",
        "# called X_train, X_test, and X_val and also split the corresponding labels as #\n",
        "# y_train, y_test, and y_val. After spliting, the ratio of your data should be # \n",
        "# approximately like this:                                                     #\n",
        "#  Train : 72%     test : 20%       validation : 8%                            #\n",
        "################################################################################\n",
        "\n",
        "\n",
        "#X_train, X_test, y_train, y_test = train_test_split(X, y, test_size=1 - train_ratio)\n",
        "\n",
        "#X_train, X_val, y_train, y_val = train_test_split(X_train, y_train, test_size=1 - train_ratio)\n",
        "\n",
        "train_ratio = 0.72\n",
        "val_ratio = 0.082\n",
        "test_ratio = 0.198\n",
        "\n",
        "X_train, X_test, y_train, y_test = train_test_split(X, y, test_size=1 - train_ratio)\n",
        "\n",
        "X_val, X_test, y_val, y_test = train_test_split(X_test, y_test, test_size=test_ratio/(test_ratio + val_ratio)) \n",
        "\n",
        "\n",
        "################################################################################\n",
        "#                                 END OF YOUR CODE                             #\n",
        "################################################################################\n",
        "print((X_train.shape[0]/cancer.data.shape[0]) * 100, \"%\")\n",
        "print((y_train.shape[0]/cancer.data.shape[0]) * 100, \"%\")\n",
        "print((X_test.shape[0]/cancer.data.shape[0]) * 100, \"%\")\n",
        "print((y_test.shape[0]/cancer.data.shape[0]) * 100, \"%\")\n",
        "print((X_val.shape[0]/cancer.data.shape[0]) * 100, \"%\")\n",
        "print((y_val.shape[0]/cancer.data.shape[0]) * 100, \"%\")"
      ],
      "execution_count": null,
      "outputs": [
        {
          "output_type": "stream",
          "text": [
            "71.8804920913884 %\n",
            "71.8804920913884 %\n",
            "20.035149384885763 %\n",
            "20.035149384885763 %\n",
            "8.084358523725834 %\n",
            "8.084358523725834 %\n"
          ],
          "name": "stdout"
        }
      ]
    },
    {
      "cell_type": "markdown",
      "metadata": {
        "id": "CPM-EQy42jFw"
      },
      "source": [
        "### soft margin SVM optimization:<br/>\n",
        "We add 1 at the beginning of each Xs data (X_train, X_val , ...) and then the bias will be calculated implicitly.\n",
        "Then you should minimize the following SVM loss function (using gradient descent) with changing parameters of model.<br>\n",
        "In this notation: \n",
        "\\begin{equation}\n",
        "x_i , y_i\n",
        "\\end{equation}\n",
        "refers to feature vector of the sample and the label of our training data<br>\n",
        "and this is SVM loss function:\n",
        "\n",
        "\\begin{equation}\n",
        "\\large\n",
        "J(W) = \\frac{1}{N} \\sum_{i=1}^{N}{L^{(i)}} + \\frac{\\lambda}{2} ||W||^2\\\\\n",
        "\\large\n",
        "L^{(i)} ={max(0, 1 - y_i(w^{T}x_i)})\n",
        "\\;\\\\\n",
        "\\end{equation} \n"
      ]
    },
    {
      "cell_type": "code",
      "metadata": {
        "id": "vI90qI2w2jFz",
        "outputId": "b621fd30-562c-4755-e6e3-8ed33f3ea86f"
      },
      "source": [
        "# >>>>>WARNING: RUN THIS CELL ONLY ONCE!<<<<<\n",
        "\n",
        "# adding 1s to the end of feature vectors to be multiplied by bias term of weights\n",
        "X_val = np.insert(X_val, 0, 1, axis=1)\n",
        "X_train = np.insert(X_train, 0, 1, axis=1)\n",
        "X_test = np.insert(X_test, 0, 1, axis=1)\n",
        "print(X_train.shape)  \n",
        "print(X_val.shape)  \n",
        "print(X_test.shape) "
      ],
      "execution_count": null,
      "outputs": [
        {
          "output_type": "stream",
          "text": [
            "(409, 31)\n",
            "(46, 31)\n",
            "(114, 31)\n"
          ],
          "name": "stdout"
        }
      ]
    },
    {
      "cell_type": "markdown",
      "metadata": {
        "id": "B1dUL70W2jF4"
      },
      "source": [
        "Complete the following functions in SVM class. In the part that you should compute loss function of this class, you are not allowed to use \"for\" loop."
      ]
    },
    {
      "cell_type": "code",
      "metadata": {
        "ExecuteTime": {
          "end_time": "2020-03-12T16:30:29.561420Z",
          "start_time": "2020-03-12T16:30:29.538696Z"
        },
        "id": "vI9DyCo92jF6",
        "outputId": "f2042f8e-7e22-431b-ff04-3d2c3c04331d"
      },
      "source": [
        "class SVM:\n",
        "    def __init__(self, n_features: int, std: float):\n",
        "        \"\"\"\n",
        "        n_features: number of features in (or the dimension of) each instance\n",
        "        std: standard deviation used in the initialization of the weights of svm\n",
        "        \"\"\"\n",
        "        self.n_features = n_features\n",
        "        ################################################################################\n",
        "        # TODO: Initialize the weights of svm using random normal distribution with    #\n",
        "        # standard deviation equals to std.                                            #\n",
        "        ################################################################################\n",
        "\n",
        "        self.W = np.random.normal(loc=0.0, scale=0.0001, size=n_features)\n",
        "\n",
        "        ################################################################################\n",
        "        #                                 END OF YOUR CODE                             #\n",
        "        ################################################################################\n",
        "\n",
        "    def loss(self, X: np.ndarray, y: np.ndarray, reg_coeff: float):\n",
        "        \"\"\"\n",
        "        X: training instances as a 2d-array with shape (num_train, n_features)\n",
        "        y: labels corresponsing to the given training instances as a 1d-array with shape (num_train,)\n",
        "        reg_coeff: L2-regularization coefficient\n",
        "        \"\"\"\n",
        "        loss = 0.0\n",
        "        \n",
        "        #################################################################################\n",
        "        # TODO: Compute the hinge loss specified in the notebook and save it in the loss#                                                   # loss variable.                                                               #\n",
        "        # NOTE: YOU ARE NOT ALLOWED TO USE FOR LOOPS!                                   #\n",
        "        # Don't forget L2-regularization term in your implementation!                   #\n",
        "        #################################################################################\n",
        "        \n",
        "        #write your code here\n",
        "        \n",
        "        \n",
        "        \n",
        "        scores=np.dot(X,self.W)#x_train\n",
        "        m=y*scores\n",
        "        margins = np.maximum(0,1-m)  \n",
        "        loss=np.mean(margins)\n",
        "        #add l2-regularization\n",
        "        loss += 0.5 * reg_coeff * np.sum(self.W *self.W)\n",
        "\n",
        "        ################################################################################\n",
        "        #                                 END OF YOUR CODE                             #\n",
        "        ################################################################################\n",
        "        return loss\n",
        "        \n",
        "    def update_weights(self,  X: np.ndarray, y: np.ndarray, learning_rate: float , reg_coeff: float):\n",
        "        \"\"\"\n",
        "        Updates the weights of the svm using the gradient of computed loss with respect to the weights. \n",
        "        learning_rate: learning rate that will be used in gradient descent to update the weights\n",
        "        \"\"\"\n",
        "        ################################################################################\n",
        "        # TODO: Compute the gradient of loss computed above w.r.t the svm weights.     #\n",
        "        # and then update self.w with the computed gradient.                           #\n",
        "        # (don't forget learning rate and reg_coeff in update rule)                    #\n",
        "        # Don't forget L2-regularization term in your implementation!                  #\n",
        "        ################################################################################\n",
        "        \n",
        "        #write your code here\n",
        "        \n",
        "        for i in range(X.shape[0]):\n",
        "            \n",
        "            if max(0, 1-y[i] * (np.dot(X[i],self.W))) == 0:\n",
        "                grad = reg_coeff * self.W\n",
        "            else:\n",
        "                grad =  reg_coeff * self.W - y[i]*X[i]\n",
        "            \n",
        "            self.W =self.W-learning_rate * grad\n",
        "        \n",
        "        ################################################################################\n",
        "        #                                 END OF YOUR CODE                             #\n",
        "        ################################################################################\n",
        "    def predict(self, X):\n",
        "        \"\"\"\n",
        "        X: Numpy 2d-array of instances\n",
        "        \"\"\"\n",
        "        y_pred = None\n",
        "      \n",
        "        ################################################################################\n",
        "        # TODO: predict the labels for the instances in X and save them in y_pred.     #                                      #\n",
        "        ################################################################################\n",
        "\n",
        "        #write your code here\n",
        "        y_pred=np.dot(X,self.W)\n",
        "        y_pred[y_pred>=0]=1\n",
        "        y_pred[y_pred<0]=-1\n",
        "\n",
        "        ################################################################################\n",
        "        #                                 END OF YOUR CODE                             #\n",
        "        ################################################################################\n",
        "        return y_pred\n",
        "model = SVM(n_features=31, std= 0.0001 )\n",
        "model.update_weights(X_train, y_train,1e-8, 20)\n",
        "print(model.loss(X_train,y_train,20))"
      ],
      "execution_count": null,
      "outputs": [
        {
          "output_type": "stream",
          "text": [
            "0.9155565632134348\n"
          ],
          "name": "stdout"
        }
      ]
    },
    {
      "cell_type": "markdown",
      "metadata": {
        "id": "SmUf2ZXm2jGB"
      },
      "source": [
        "This cell contains your hyper parameters:"
      ]
    },
    {
      "cell_type": "code",
      "metadata": {
        "id": "Rc9Of0-n2jGD"
      },
      "source": [
        "std = 0.0001\n",
        "num_iters = 15000\n",
        "reg_coeff = 20\n",
        "learning_rate=1e-8"
      ],
      "execution_count": null,
      "outputs": []
    },
    {
      "cell_type": "markdown",
      "metadata": {
        "id": "4au_PqCW2jGF"
      },
      "source": [
        "In this cell using your SVM class, we want to train our model for cancer data:<br/>\n",
        "In every iteration you should see your training loss decrease."
      ]
    },
    {
      "cell_type": "code",
      "metadata": {
        "id": "UAgiZfCs2jGG",
        "outputId": "faf42635-8d34-4b5c-a33f-e3b1e083fb1b"
      },
      "source": [
        "from sklearn.metrics import accuracy_score\n",
        "model = SVM(n_features=X_train.shape[1], std= std )\n",
        "loss_history = []\n",
        "loss_val_history = []\n",
        "for it in range(num_iters):\n",
        "    loss = model.loss(X_train, y_train, reg_coeff)\n",
        "    loss_val = model.loss(X_val, y_val, reg_coeff)\n",
        "    if it % 100 == 0:\n",
        "        val_preds =  model.predict(X_val)\n",
        "        print('iteration %d, loss %f, val acc %.2f%%' % (it, loss,  accuracy_score(y_val,val_preds) * 100))\n",
        "    model.update_weights(X_train, y_train, learning_rate , reg_coeff)\n",
        "    loss_history.append(loss)\n",
        "    loss_val_history.append(loss_val)"
      ],
      "execution_count": null,
      "outputs": [
        {
          "output_type": "stream",
          "text": [
            "iteration 0, loss 0.982758, val acc 36.17%\n",
            "iteration 100, loss 0.452340, val acc 91.49%\n",
            "iteration 200, loss 0.347248, val acc 93.62%\n",
            "iteration 300, loss 0.304621, val acc 95.74%\n",
            "iteration 400, loss 0.283243, val acc 95.74%\n",
            "iteration 500, loss 0.270416, val acc 95.74%\n",
            "iteration 600, loss 0.261228, val acc 95.74%\n",
            "iteration 700, loss 0.255206, val acc 95.74%\n",
            "iteration 800, loss 0.250883, val acc 95.74%\n",
            "iteration 900, loss 0.248621, val acc 95.74%\n",
            "iteration 1000, loss 0.246902, val acc 95.74%\n",
            "iteration 1100, loss 0.245454, val acc 95.74%\n",
            "iteration 1200, loss 0.244273, val acc 95.74%\n",
            "iteration 1300, loss 0.243336, val acc 95.74%\n",
            "iteration 1400, loss 0.242527, val acc 95.74%\n",
            "iteration 1500, loss 0.241762, val acc 95.74%\n",
            "iteration 1600, loss 0.241019, val acc 95.74%\n",
            "iteration 1700, loss 0.240321, val acc 95.74%\n",
            "iteration 1800, loss 0.239704, val acc 95.74%\n",
            "iteration 1900, loss 0.239104, val acc 95.74%\n",
            "iteration 2000, loss 0.238504, val acc 95.74%\n",
            "iteration 2100, loss 0.237896, val acc 95.74%\n",
            "iteration 2200, loss 0.237550, val acc 95.74%\n",
            "iteration 2300, loss 0.237211, val acc 95.74%\n",
            "iteration 2400, loss 0.237010, val acc 95.74%\n",
            "iteration 2500, loss 0.236729, val acc 95.74%\n",
            "iteration 2600, loss 0.236511, val acc 95.74%\n",
            "iteration 2700, loss 0.236308, val acc 95.74%\n",
            "iteration 2800, loss 0.236076, val acc 95.74%\n",
            "iteration 2900, loss 0.235900, val acc 95.74%\n",
            "iteration 3000, loss 0.235745, val acc 95.74%\n",
            "iteration 3100, loss 0.235598, val acc 95.74%\n",
            "iteration 3200, loss 0.235491, val acc 95.74%\n",
            "iteration 3300, loss 0.235453, val acc 95.74%\n",
            "iteration 3400, loss 0.235370, val acc 95.74%\n",
            "iteration 3500, loss 0.235239, val acc 95.74%\n",
            "iteration 3600, loss 0.235208, val acc 95.74%\n",
            "iteration 3700, loss 0.235099, val acc 95.74%\n",
            "iteration 3800, loss 0.235023, val acc 95.74%\n",
            "iteration 3900, loss 0.234960, val acc 95.74%\n",
            "iteration 4000, loss 0.234881, val acc 95.74%\n",
            "iteration 4100, loss 0.234815, val acc 95.74%\n",
            "iteration 4200, loss 0.234727, val acc 95.74%\n",
            "iteration 4300, loss 0.234669, val acc 95.74%\n",
            "iteration 4400, loss 0.234594, val acc 95.74%\n",
            "iteration 4500, loss 0.234540, val acc 95.74%\n",
            "iteration 4600, loss 0.234489, val acc 95.74%\n",
            "iteration 4700, loss 0.234400, val acc 95.74%\n",
            "iteration 4800, loss 0.234337, val acc 95.74%\n",
            "iteration 4900, loss 0.234276, val acc 95.74%\n",
            "iteration 5000, loss 0.234227, val acc 95.74%\n",
            "iteration 5100, loss 0.234218, val acc 95.74%\n",
            "iteration 5200, loss 0.234186, val acc 95.74%\n",
            "iteration 5300, loss 0.234133, val acc 95.74%\n",
            "iteration 5400, loss 0.234079, val acc 95.74%\n",
            "iteration 5500, loss 0.234081, val acc 95.74%\n",
            "iteration 5600, loss 0.234064, val acc 95.74%\n",
            "iteration 5700, loss 0.234032, val acc 95.74%\n",
            "iteration 5800, loss 0.233991, val acc 95.74%\n",
            "iteration 5900, loss 0.233991, val acc 95.74%\n",
            "iteration 6000, loss 0.233978, val acc 95.74%\n",
            "iteration 6100, loss 0.233936, val acc 95.74%\n",
            "iteration 6200, loss 0.233895, val acc 95.74%\n",
            "iteration 6300, loss 0.233854, val acc 95.74%\n",
            "iteration 6400, loss 0.233791, val acc 95.74%\n",
            "iteration 6500, loss 0.233787, val acc 95.74%\n",
            "iteration 6600, loss 0.233731, val acc 95.74%\n",
            "iteration 6700, loss 0.233734, val acc 95.74%\n",
            "iteration 6800, loss 0.233692, val acc 95.74%\n",
            "iteration 6900, loss 0.233649, val acc 95.74%\n",
            "iteration 7000, loss 0.233684, val acc 95.74%\n",
            "iteration 7100, loss 0.233619, val acc 95.74%\n",
            "iteration 7200, loss 0.233602, val acc 95.74%\n",
            "iteration 7300, loss 0.233590, val acc 95.74%\n",
            "iteration 7400, loss 0.233547, val acc 95.74%\n",
            "iteration 7500, loss 0.233498, val acc 95.74%\n",
            "iteration 7600, loss 0.233481, val acc 95.74%\n",
            "iteration 7700, loss 0.233419, val acc 95.74%\n",
            "iteration 7800, loss 0.233427, val acc 95.74%\n",
            "iteration 7900, loss 0.233410, val acc 95.74%\n",
            "iteration 8000, loss 0.233385, val acc 95.74%\n",
            "iteration 8100, loss 0.233360, val acc 95.74%\n",
            "iteration 8200, loss 0.233337, val acc 95.74%\n",
            "iteration 8300, loss 0.233314, val acc 95.74%\n",
            "iteration 8400, loss 0.233292, val acc 95.74%\n",
            "iteration 8500, loss 0.233270, val acc 95.74%\n",
            "iteration 8600, loss 0.233249, val acc 95.74%\n",
            "iteration 8700, loss 0.233228, val acc 95.74%\n",
            "iteration 8800, loss 0.233207, val acc 95.74%\n",
            "iteration 8900, loss 0.233115, val acc 95.74%\n",
            "iteration 9000, loss 0.233096, val acc 95.74%\n",
            "iteration 9100, loss 0.233077, val acc 95.74%\n",
            "iteration 9200, loss 0.233058, val acc 95.74%\n",
            "iteration 9300, loss 0.233040, val acc 95.74%\n",
            "iteration 9400, loss 0.233022, val acc 95.74%\n",
            "iteration 9500, loss 0.233004, val acc 95.74%\n",
            "iteration 9600, loss 0.232987, val acc 95.74%\n",
            "iteration 9700, loss 0.232970, val acc 95.74%\n",
            "iteration 9800, loss 0.232953, val acc 95.74%\n",
            "iteration 9900, loss 0.232937, val acc 95.74%\n",
            "iteration 10000, loss 0.232922, val acc 95.74%\n",
            "iteration 10100, loss 0.232906, val acc 95.74%\n",
            "iteration 10200, loss 0.232891, val acc 95.74%\n",
            "iteration 10300, loss 0.232877, val acc 95.74%\n",
            "iteration 10400, loss 0.232862, val acc 95.74%\n",
            "iteration 10500, loss 0.232848, val acc 95.74%\n",
            "iteration 10600, loss 0.232834, val acc 95.74%\n",
            "iteration 10700, loss 0.232820, val acc 95.74%\n",
            "iteration 10800, loss 0.232807, val acc 95.74%\n",
            "iteration 10900, loss 0.232793, val acc 95.74%\n",
            "iteration 11000, loss 0.232780, val acc 95.74%\n",
            "iteration 11100, loss 0.232768, val acc 95.74%\n",
            "iteration 11200, loss 0.232700, val acc 95.74%\n",
            "iteration 11300, loss 0.232684, val acc 95.74%\n",
            "iteration 11400, loss 0.232674, val acc 95.74%\n",
            "iteration 11500, loss 0.232687, val acc 95.74%\n",
            "iteration 11600, loss 0.232645, val acc 95.74%\n",
            "iteration 11700, loss 0.232635, val acc 95.74%\n",
            "iteration 11800, loss 0.232617, val acc 95.74%\n",
            "iteration 11900, loss 0.232611, val acc 95.74%\n",
            "iteration 12000, loss 0.232596, val acc 95.74%\n",
            "iteration 12100, loss 0.232582, val acc 95.74%\n",
            "iteration 12200, loss 0.232564, val acc 95.74%\n",
            "iteration 12300, loss 0.232572, val acc 95.74%\n",
            "iteration 12400, loss 0.232560, val acc 95.74%\n",
            "iteration 12500, loss 0.232549, val acc 95.74%\n",
            "iteration 12600, loss 0.232538, val acc 95.74%\n",
            "iteration 12700, loss 0.232527, val acc 95.74%\n",
            "iteration 12800, loss 0.232517, val acc 95.74%\n",
            "iteration 12900, loss 0.232507, val acc 95.74%\n",
            "iteration 13000, loss 0.232479, val acc 95.74%\n",
            "iteration 13100, loss 0.232493, val acc 95.74%\n",
            "iteration 13200, loss 0.232489, val acc 95.74%\n",
            "iteration 13300, loss 0.232474, val acc 95.74%\n",
            "iteration 13400, loss 0.232471, val acc 95.74%\n",
            "iteration 13500, loss 0.232476, val acc 95.74%\n",
            "iteration 13600, loss 0.232459, val acc 95.74%\n",
            "iteration 13700, loss 0.232457, val acc 95.74%\n",
            "iteration 13800, loss 0.232441, val acc 95.74%\n",
            "iteration 13900, loss 0.232427, val acc 95.74%\n",
            "iteration 14000, loss 0.232424, val acc 95.74%\n",
            "iteration 14100, loss 0.232416, val acc 95.74%\n",
            "iteration 14200, loss 0.232421, val acc 95.74%\n",
            "iteration 14300, loss 0.232399, val acc 95.74%\n",
            "iteration 14400, loss 0.232395, val acc 95.74%\n",
            "iteration 14500, loss 0.232394, val acc 95.74%\n",
            "iteration 14600, loss 0.232378, val acc 95.74%\n",
            "iteration 14700, loss 0.232393, val acc 95.74%\n",
            "iteration 14800, loss 0.232370, val acc 95.74%\n",
            "iteration 14900, loss 0.232367, val acc 95.74%\n"
          ],
          "name": "stdout"
        }
      ]
    },
    {
      "cell_type": "code",
      "metadata": {
        "id": "0t8EooPK2jGI",
        "outputId": "8668d462-9d92-4ea0-93de-820710f9443c"
      },
      "source": [
        "####################################################################################\n",
        "# TODO: using matplotlib.pyplot package plot the training loss and validation loss #\n",
        "# using loss_loss_history and loss_val_history                                     #\n",
        "####################################################################################\n",
        "\n",
        "#write your code here\n",
        "plt.plot(np.arange(num_iters),loss_val_history ,label =\"loss_val_history\")\n",
        "plt.plot(np.arange(num_iters),loss_history ,label=\"loss_train_history\")\n",
        "plt.legend() \n",
        "plt.xlabel('number of iterations')\n",
        "\n",
        "plt.ylabel('loss_history')\n",
        "plt.show()\n",
        "####################################################################################\n",
        "#                                 END OF YOUR CODE                                 #\n",
        "####################################################################################\n"
      ],
      "execution_count": null,
      "outputs": [
        {
          "output_type": "display_data",
          "data": {
            "image/png": "[encoded data removed]",
            "text/plain": [
              "<Figure size 720x720 with 1 Axes>"
            ]
          },
          "metadata": {
            "tags": [],
            "needs_background": "light"
          }
        }
      ]
    },
    {
      "cell_type": "markdown",
      "metadata": {
        "id": "BTPFNHZU2jGL"
      },
      "source": [
        "### Question 1:\n",
        "With changing your hyper parameters, find a configuration of hyper parameters that cause your loss to increase after each iteration and then report that configuration in the next cell. Explain why our loss increases?\n",
        "Write your answer in \"\""
      ]
    },
    {
      "cell_type": "markdown",
      "metadata": {
        "id": "-BnLoOGY2jGM"
      },
      "source": [
        "لرنینگ ریت بالا موجب اپدیتهای شدید میشه و باعث انحراف رفتاری زیاد میتونه بشه و در نمودار لاس میتونه از مینیمم محلی تابع لاس بپره و اون رو رد کنه و همینطور از سمت چپ مینیمم محلی به سمت راست مینیمم محلی بپره و تغییرات شدید را موجب بشه"
      ]
    },
    {
      "cell_type": "markdown",
      "metadata": {
        "id": "IK3kXJUJ2jGN"
      },
      "source": [
        "std = \".001\" <br>\n",
        "num_iters = \"1000\"<br>\n",
        "reg_coeff = \"30\"<br>\n",
        "learning_rate = 5e-5"
      ]
    },
    {
      "cell_type": "markdown",
      "metadata": {
        "id": "FYZA9nm12jGP"
      },
      "source": [
        "### Question 2:\n",
        "In this cell please explain the reason of this event<br>\n",
        "Answer:لرنینگ ریت بالا موجب اپدیتهای شدید میشه و باعث انحراف رفتاری زیاد میتونه بشه و در نمودار لاس میتونه از مینیمم محلی تابع لاس بپره و اون رو رد کنه و همینطور از سمت چپ مینیمم محلی به سمت راست مینیمم محلی بپره و تغییرات شدید را موجب بشه"
      ]
    },
    {
      "cell_type": "code",
      "metadata": {
        "id": "Yw6--e6F2jGR",
        "outputId": "210c3526-6a85-4772-f544-c01b0d9b1aa4"
      },
      "source": [
        "val_preds =  model.predict(X_test)\n",
        "###########################################################################################\n",
        "# TODO: find the Confusion Matrix between val_preds and real labels (y_test) for test data#\n",
        "# then report the accuracy of the model.                                                  #\n",
        "# you are not allowed to use any premade function for accuracy and confusion matrix       #\n",
        "###########################################################################################\n",
        "\n",
        "#write your code here\n",
        "\n",
        "def confusion_matrix(y_test, y_pred):\n",
        "    TN,TP,FN,FP=0,0,0,0\n",
        "    for i in range(len(y_test)):\n",
        "        if y_test[i]==-1 and val_preds[i]==-1:\n",
        "            TN+=1\n",
        "        elif y_test[i]==1 and val_preds[i]==1:\n",
        "            TP+=1\n",
        "        elif y_test[i]==1 and val_preds[i]==-1:\n",
        "            FN+=1   \n",
        "        else:\n",
        "            FP+=1\n",
        "            \n",
        "    return TN,TP,FN,FP   \n",
        "print(\"accuracy\",np.sum(y_test==val_preds)/len(y_test))\n",
        "print(\"\")\n",
        "print(\"confusion_matrix svm\")\n",
        "print(\"TN,TP,FN,FP are:\")\n",
        "print(confusion_matrix(y_test,val_preds))\n",
        "\n",
        "\n",
        "\n",
        "\n",
        "###########################################################################################\n",
        "#                                END OF YOUR EXPLANATION                                  #\n",
        "###########################################################################################\n"
      ],
      "execution_count": null,
      "outputs": [
        {
          "output_type": "stream",
          "text": [
            "accuracy 0.9469026548672567\n",
            "\n",
            "confusion_matrix svm\n",
            "TN,TP,FN,FP are:\n",
            "(37, 70, 2, 4)\n"
          ],
          "name": "stdout"
        }
      ]
    },
    {
      "cell_type": "markdown",
      "metadata": {
        "id": "USQou2zo2jGT"
      },
      "source": [
        "In the next part, we sample from training data with certain size (batch size) instead of using all the training data in each iteration, and train our model on batch data:"
      ]
    },
    {
      "cell_type": "code",
      "metadata": {
        "id": "OPW2N4TO2jGU"
      },
      "source": [
        "std = 0.0001\n",
        "batch_size = 200\n",
        "num_iters = 15000\n",
        "reg_coeff = 20\n",
        "learning_rate=1e-8\n",
        "model = SVM(n_features=X_train.shape[1], std= std )"
      ],
      "execution_count": null,
      "outputs": []
    },
    {
      "cell_type": "code",
      "metadata": {
        "id": "kLee1hun2jGW",
        "outputId": "a02ee07c-595f-45b3-de4b-ee029edb1845"
      },
      "source": [
        "loss_history = []\n",
        "loss_val_history = []\n",
        "for it in range(num_iters):\n",
        "    X_batch = None\n",
        "    y_batch = None\n",
        "    ################################################################################\n",
        "    # TODO: Sample batch_size elements from the training data and their            #\n",
        "    # corresponding labels to use in this round of gradient descent.               #\n",
        "    # Store the data in X_batch and their corresponding labels in                  #\n",
        "    # y_batch; after sampling X_batch should have shape (batch_size, n_features)   #\n",
        "    # and y_batch should have shape (batch_size,)                                  #\n",
        "    #                                                                              #\n",
        "    # Hint: Use np.random.choice to generate indices. Sampling with                #\n",
        "    # replacement is faster than sampling without replacement.                     #\n",
        "    ################################################################################\n",
        "\n",
        "    #write your code here\n",
        "    indices = np.random.choice(np.arange(X_train.shape[0]),batch_size, replace=False)\n",
        "    X_batch = X_train[indices]\n",
        "    y_batch = y_train[indices]\n",
        "    ################################################################################\n",
        "    #                                 END OF YOUR CODE                             #\n",
        "    ################################################################################\n",
        "    loss = model.loss(X_batch, y_batch, reg_coeff)\n",
        "    loss_val = model.loss(X_val, y_val, reg_coeff)\n",
        "    if it % 100 == 0:\n",
        "        val_preds =  model.predict(X_val)\n",
        "        print('iteration %d, loss %f, val acc %.2f%%' % (it, loss,  accuracy_score(y_val,val_preds) * 100))\n",
        "    model.update_weights(X_batch, y_batch, learning_rate , reg_coeff)\n",
        "    loss_history.append(loss)\n",
        "    loss_val_history.append(loss_val)\n",
        "#print(X_batch.shape)\n",
        "#print(y_batch.shape)"
      ],
      "execution_count": null,
      "outputs": [
        {
          "output_type": "stream",
          "text": [
            "iteration 0, loss 1.003450, val acc 36.17%\n",
            "iteration 100, loss 0.678806, val acc 93.62%\n",
            "iteration 200, loss 0.438614, val acc 85.11%\n",
            "iteration 300, loss 0.337995, val acc 91.49%\n",
            "iteration 400, loss 0.363759, val acc 93.62%\n",
            "iteration 500, loss 0.344453, val acc 93.62%\n",
            "iteration 600, loss 0.316211, val acc 95.74%\n",
            "iteration 700, loss 0.294453, val acc 95.74%\n",
            "iteration 800, loss 0.308599, val acc 95.74%\n",
            "iteration 900, loss 0.303800, val acc 95.74%\n",
            "iteration 1000, loss 0.288972, val acc 95.74%\n",
            "iteration 1100, loss 0.259861, val acc 95.74%\n",
            "iteration 1200, loss 0.246476, val acc 95.74%\n",
            "iteration 1300, loss 0.245808, val acc 95.74%\n",
            "iteration 1400, loss 0.299981, val acc 95.74%\n",
            "iteration 1500, loss 0.271018, val acc 95.74%\n",
            "iteration 1600, loss 0.273495, val acc 95.74%\n",
            "iteration 1700, loss 0.231214, val acc 95.74%\n",
            "iteration 1800, loss 0.251794, val acc 95.74%\n",
            "iteration 1900, loss 0.289671, val acc 95.74%\n",
            "iteration 2000, loss 0.259354, val acc 95.74%\n",
            "iteration 2100, loss 0.233174, val acc 95.74%\n",
            "iteration 2200, loss 0.244012, val acc 95.74%\n",
            "iteration 2300, loss 0.233347, val acc 95.74%\n",
            "iteration 2400, loss 0.214772, val acc 95.74%\n",
            "iteration 2500, loss 0.224048, val acc 95.74%\n",
            "iteration 2600, loss 0.219995, val acc 95.74%\n",
            "iteration 2700, loss 0.245792, val acc 95.74%\n",
            "iteration 2800, loss 0.212713, val acc 95.74%\n",
            "iteration 2900, loss 0.244884, val acc 95.74%\n",
            "iteration 3000, loss 0.252565, val acc 95.74%\n",
            "iteration 3100, loss 0.263494, val acc 95.74%\n",
            "iteration 3200, loss 0.264408, val acc 95.74%\n",
            "iteration 3300, loss 0.319644, val acc 95.74%\n",
            "iteration 3400, loss 0.250135, val acc 95.74%\n",
            "iteration 3500, loss 0.246846, val acc 95.74%\n",
            "iteration 3600, loss 0.242488, val acc 95.74%\n",
            "iteration 3700, loss 0.166999, val acc 95.74%\n",
            "iteration 3800, loss 0.220042, val acc 95.74%\n",
            "iteration 3900, loss 0.258917, val acc 95.74%\n",
            "iteration 4000, loss 0.217923, val acc 95.74%\n",
            "iteration 4100, loss 0.255523, val acc 95.74%\n",
            "iteration 4200, loss 0.199553, val acc 95.74%\n",
            "iteration 4300, loss 0.258501, val acc 95.74%\n",
            "iteration 4400, loss 0.229073, val acc 95.74%\n",
            "iteration 4500, loss 0.196288, val acc 95.74%\n",
            "iteration 4600, loss 0.243423, val acc 95.74%\n",
            "iteration 4700, loss 0.240251, val acc 95.74%\n",
            "iteration 4800, loss 0.245348, val acc 95.74%\n",
            "iteration 4900, loss 0.246585, val acc 95.74%\n",
            "iteration 5000, loss 0.248927, val acc 95.74%\n",
            "iteration 5100, loss 0.257703, val acc 95.74%\n",
            "iteration 5200, loss 0.260573, val acc 95.74%\n",
            "iteration 5300, loss 0.201977, val acc 95.74%\n",
            "iteration 5400, loss 0.202031, val acc 95.74%\n",
            "iteration 5500, loss 0.235868, val acc 95.74%\n",
            "iteration 5600, loss 0.203425, val acc 95.74%\n",
            "iteration 5700, loss 0.221291, val acc 95.74%\n",
            "iteration 5800, loss 0.232392, val acc 95.74%\n",
            "iteration 5900, loss 0.203896, val acc 95.74%\n",
            "iteration 6000, loss 0.221544, val acc 95.74%\n",
            "iteration 6100, loss 0.206218, val acc 95.74%\n",
            "iteration 6200, loss 0.273275, val acc 95.74%\n",
            "iteration 6300, loss 0.256282, val acc 95.74%\n",
            "iteration 6400, loss 0.206123, val acc 95.74%\n",
            "iteration 6500, loss 0.284968, val acc 95.74%\n",
            "iteration 6600, loss 0.226408, val acc 95.74%\n",
            "iteration 6700, loss 0.203438, val acc 95.74%\n",
            "iteration 6800, loss 0.247945, val acc 95.74%\n",
            "iteration 6900, loss 0.271421, val acc 95.74%\n",
            "iteration 7000, loss 0.229460, val acc 95.74%\n",
            "iteration 7100, loss 0.216154, val acc 95.74%\n",
            "iteration 7200, loss 0.251653, val acc 95.74%\n",
            "iteration 7300, loss 0.227032, val acc 95.74%\n",
            "iteration 7400, loss 0.257047, val acc 95.74%\n",
            "iteration 7500, loss 0.213261, val acc 95.74%\n",
            "iteration 7600, loss 0.179868, val acc 95.74%\n",
            "iteration 7700, loss 0.260530, val acc 95.74%\n",
            "iteration 7800, loss 0.244691, val acc 95.74%\n",
            "iteration 7900, loss 0.193847, val acc 95.74%\n",
            "iteration 8000, loss 0.221522, val acc 95.74%\n",
            "iteration 8100, loss 0.230593, val acc 95.74%\n",
            "iteration 8200, loss 0.241383, val acc 95.74%\n",
            "iteration 8300, loss 0.250979, val acc 95.74%\n",
            "iteration 8400, loss 0.229475, val acc 95.74%\n",
            "iteration 8500, loss 0.228882, val acc 95.74%\n",
            "iteration 8600, loss 0.217819, val acc 95.74%\n",
            "iteration 8700, loss 0.240074, val acc 95.74%\n",
            "iteration 8800, loss 0.230010, val acc 95.74%\n",
            "iteration 8900, loss 0.215093, val acc 95.74%\n",
            "iteration 9000, loss 0.207235, val acc 95.74%\n",
            "iteration 9100, loss 0.243928, val acc 95.74%\n",
            "iteration 9200, loss 0.221901, val acc 95.74%\n",
            "iteration 9300, loss 0.244055, val acc 95.74%\n",
            "iteration 9400, loss 0.295394, val acc 95.74%\n",
            "iteration 9500, loss 0.191328, val acc 95.74%\n",
            "iteration 9600, loss 0.230235, val acc 95.74%\n",
            "iteration 9700, loss 0.232515, val acc 95.74%\n",
            "iteration 9800, loss 0.262520, val acc 95.74%\n",
            "iteration 9900, loss 0.254818, val acc 95.74%\n",
            "iteration 10000, loss 0.265090, val acc 95.74%\n",
            "iteration 10100, loss 0.209867, val acc 95.74%\n",
            "iteration 10200, loss 0.282393, val acc 95.74%\n",
            "iteration 10300, loss 0.286998, val acc 95.74%\n",
            "iteration 10400, loss 0.266593, val acc 95.74%\n",
            "iteration 10500, loss 0.244949, val acc 95.74%\n",
            "iteration 10600, loss 0.269394, val acc 95.74%\n",
            "iteration 10700, loss 0.279197, val acc 95.74%\n",
            "iteration 10800, loss 0.225446, val acc 95.74%\n",
            "iteration 10900, loss 0.257181, val acc 95.74%\n",
            "iteration 11000, loss 0.235653, val acc 95.74%\n",
            "iteration 11100, loss 0.274662, val acc 95.74%\n",
            "iteration 11200, loss 0.235668, val acc 95.74%\n",
            "iteration 11300, loss 0.192103, val acc 95.74%\n",
            "iteration 11400, loss 0.262046, val acc 95.74%\n",
            "iteration 11500, loss 0.226198, val acc 95.74%\n",
            "iteration 11600, loss 0.315063, val acc 95.74%\n",
            "iteration 11700, loss 0.248243, val acc 95.74%\n",
            "iteration 11800, loss 0.221594, val acc 95.74%\n",
            "iteration 11900, loss 0.225182, val acc 95.74%\n",
            "iteration 12000, loss 0.225970, val acc 95.74%\n",
            "iteration 12100, loss 0.241682, val acc 95.74%\n",
            "iteration 12200, loss 0.231243, val acc 95.74%\n",
            "iteration 12300, loss 0.260860, val acc 95.74%\n",
            "iteration 12400, loss 0.222718, val acc 95.74%\n",
            "iteration 12500, loss 0.258455, val acc 95.74%\n",
            "iteration 12600, loss 0.269848, val acc 95.74%\n",
            "iteration 12700, loss 0.219980, val acc 95.74%\n",
            "iteration 12800, loss 0.246738, val acc 95.74%\n",
            "iteration 12900, loss 0.197033, val acc 95.74%\n",
            "iteration 13000, loss 0.196193, val acc 95.74%\n",
            "iteration 13100, loss 0.259499, val acc 95.74%\n",
            "iteration 13200, loss 0.230623, val acc 95.74%\n",
            "iteration 13300, loss 0.229586, val acc 95.74%\n",
            "iteration 13400, loss 0.273887, val acc 95.74%\n",
            "iteration 13500, loss 0.230983, val acc 95.74%\n",
            "iteration 13600, loss 0.259627, val acc 95.74%\n",
            "iteration 13700, loss 0.210680, val acc 95.74%\n",
            "iteration 13800, loss 0.200955, val acc 95.74%\n",
            "iteration 13900, loss 0.204369, val acc 95.74%\n",
            "iteration 14000, loss 0.219179, val acc 95.74%\n",
            "iteration 14100, loss 0.209229, val acc 95.74%\n",
            "iteration 14200, loss 0.243577, val acc 95.74%\n",
            "iteration 14300, loss 0.223558, val acc 95.74%\n",
            "iteration 14400, loss 0.253780, val acc 95.74%\n",
            "iteration 14500, loss 0.275238, val acc 95.74%\n",
            "iteration 14600, loss 0.243739, val acc 95.74%\n",
            "iteration 14700, loss 0.211013, val acc 95.74%\n",
            "iteration 14800, loss 0.228955, val acc 95.74%\n",
            "iteration 14900, loss 0.180662, val acc 95.74%\n"
          ],
          "name": "stdout"
        }
      ]
    },
    {
      "cell_type": "code",
      "metadata": {
        "id": "emwPIE0v2jGZ",
        "outputId": "0f401f44-6a7f-41cc-a23c-f37a4a0ae0e7"
      },
      "source": [
        "####################################################################################\n",
        "# TODO: using matplotlib.pyplot package plot the training loss and validation loss #\n",
        "\n",
        "####################################################################################\n",
        "\n",
        "#write your code here\n",
        "plt.plot(np.arange(num_iters),loss_val_history)\n",
        "plt.xlabel('number of iterations')\n",
        "plt.ylabel(\"loss_val_history\")\n",
        "plt.show()\n",
        "\n",
        "plt.plot(np.arange(num_iters),loss_history)\n",
        "plt.xlabel('number of iterations')\n",
        "plt.ylabel('loss_train_history')\n",
        "plt.show()\n",
        "\n",
        "plt.plot(np.arange(num_iters),loss_history ,label=\"loss_train_history\")\n",
        "plt.plot(np.arange(num_iters),loss_val_history ,label =\"loss_val_history\")\n",
        "plt.legend() \n",
        "plt.xlabel('number of iterations')\n",
        "\n",
        "plt.ylabel('loss_history')\n",
        "plt.show()\n",
        "####################################################################################\n",
        "#                                 END OF YOUR CODE                                 #\n",
        "####################################################################################"
      ],
      "execution_count": null,
      "outputs": [
        {
          "output_type": "display_data",
          "data": {
            "image/png": "[encoded data removed]",
            "text/plain": [
              "<Figure size 720x720 with 1 Axes>"
            ]
          },
          "metadata": {
            "tags": [],
            "needs_background": "light"
          }
        },
        {
          "output_type": "display_data",
          "data": {
            "image/png": "[encoded data removed]",
            "text/plain": [
              "<Figure size 720x720 with 1 Axes>"
            ]
          },
          "metadata": {
            "tags": [],
            "needs_background": "light"
          }
        },
        {
          "output_type": "display_data",
          "data": {
            "image/png": "[encoded data removed]",
            "text/plain": [
              "<Figure size 720x720 with 1 Axes>"
            ]
          },
          "metadata": {
            "tags": [],
            "needs_background": "light"
          }
        }
      ]
    },
    {
      "cell_type": "markdown",
      "metadata": {
        "id": "_8bwvq7F2jGb"
      },
      "source": [
        "### Question 3:\n",
        "Explain why we see fluctuation in this plot?<br>\n",
        "Answer: جون هر دفه داریم فقط از مقداری از دیتاست ترینمون استفاده میکنیم و برای تعداد کمی دیتا داریم ترین را انجام میدیم و تصمیم گیری میکنیم به همین ترتیت به صورت نوسانی کانورج میکنه"
      ]
    },
    {
      "cell_type": "markdown",
      "metadata": {
        "id": "5yei0P5U2jGd"
      },
      "source": [
        "# Problem 2. Perceptron"
      ]
    },
    {
      "cell_type": "markdown",
      "metadata": {
        "id": "X1kMPIdE2jGf"
      },
      "source": [
        "By now, you should know how to use and how to implement SVM from scratch.\n",
        "In fact, for perceptron we can use premade functions as below:"
      ]
    },
    {
      "cell_type": "code",
      "metadata": {
        "id": "ueFGajZ32jGh",
        "outputId": "e2ff232b-8a81-4bd3-b13b-c16d333dbd55"
      },
      "source": [
        "from sklearn.linear_model import Perceptron\n",
        "from sklearn.metrics import accuracy_score\n",
        "from sklearn.metrics import classification_report, confusion_matrix\n",
        "clf = Perceptron(tol=1e-3, random_state=0)\n",
        "clf.fit(X_train, y_train)\n",
        "val_preds = clf.predict(X_test)\n",
        "print(confusion_matrix(y_test,val_preds,[1,-1]))\n",
        "print('test acc %.2f%%' % (accuracy_score(y_test,val_preds) * 100)) "
      ],
      "execution_count": null,
      "outputs": [
        {
          "output_type": "stream",
          "text": [
            "[[69  3]\n",
            " [ 5 36]]\n",
            "test acc 92.92%\n"
          ],
          "name": "stdout"
        }
      ]
    },
    {
      "cell_type": "markdown",
      "metadata": {
        "id": "ZyRf8NnC2jGj"
      },
      "source": [
        "### Question 4:\n",
        "It is time for you to write your own code instead of completing some parts of a premade code.<br>\n",
        "So you can not use any premade functions like the previous cell.\n",
        "Write your code in the end of this .ipynb file <br>\n",
        "You should make your model and use that to build these outputs:<br>\n",
        "1- Report loss of training and accuracy of validation data on each epoch of training process.<br>\n",
        "2- You are allowed to use any normalization approach if need be.<br>\n",
        "3- Plot your training and validation loss vs number of iterations in one plot.<br>\n",
        "4- Finally print your confusion matrix and accuracy for your testing set.<br>\n",
        "With changing your hyperparameters try to get a good and reasonable accuracy and confusion matrix on testing set (similar to the accuracy when we used the package)."
      ]
    },
    {
      "cell_type": "code",
      "metadata": {
        "id": "wCimFHhA2jGl",
        "outputId": "4adb3b0f-564f-43dd-9bdc-34982f22d53c"
      },
      "source": [
        "#cancer.target = np.where(cancer.target==-1, 0, cancer.target)\n",
        "y1=np.where(y==-1, 0,y)\n",
        "Xs=df[cancer[\"feature_names\"]]\n",
        "X=Xs.values #data frame to np-array\n",
        "X_train ,X_test ,X_val ,y_train ,y_test ,y_val = None ,None ,None ,None ,None ,None\n",
        "\n",
        "\n",
        "train_ratio = 0.72\n",
        "val_ratio = 0.082\n",
        "test_ratio = 0.198\n",
        "\n",
        "X_train, X_test, y_train1, y_test1 = train_test_split(X, y1, test_size=1 - train_ratio)\n",
        "\n",
        "X_val, X_test, y_val1, y_test1 = train_test_split(X_test, y_test1, test_size=test_ratio/(test_ratio + val_ratio)) \n",
        "\n",
        "X_val = np.insert(X_val, 0, 1, axis=1)\n",
        "X_train = np.insert(X_train, 0, 1, axis=1)\n",
        "X_test = np.insert(X_test, 0, 1, axis=1)\n",
        "print(X_train.shape)  \n",
        "print(X_val.shape)  \n",
        "print(X_test.shape)"
      ],
      "execution_count": null,
      "outputs": [
        {
          "output_type": "stream",
          "text": [
            "(409, 31)\n",
            "(46, 31)\n",
            "(114, 31)\n"
          ],
          "name": "stdout"
        }
      ]
    },
    {
      "cell_type": "code",
      "metadata": {
        "id": "JF7FKtm12jGq",
        "outputId": "7d0c6cab-9b6b-4d2a-8694-80e04e489986"
      },
      "source": [
        "print((X_train.shape[0]/cancer.data.shape[0]) * 100, \"%\")\n",
        "print((y_train1.shape[0]/cancer.data.shape[0]) * 100, \"%\")\n",
        "print((X_test.shape[0]/cancer.data.shape[0]) * 100, \"%\")\n",
        "print((y_test1.shape[0]/cancer.data.shape[0]) * 100, \"%\")\n",
        "print((X_val.shape[0]/cancer.data.shape[0]) * 100, \"%\")\n",
        "print((y_val1.shape[0]/cancer.data.shape[0]) * 100, \"%\")"
      ],
      "execution_count": null,
      "outputs": [
        {
          "output_type": "stream",
          "text": [
            "71.8804920913884 %\n",
            "71.8804920913884 %\n",
            "20.035149384885763 %\n",
            "20.035149384885763 %\n",
            "8.084358523725834 %\n",
            "8.084358523725834 %\n"
          ],
          "name": "stdout"
        }
      ]
    },
    {
      "cell_type": "code",
      "metadata": {
        "id": "qH89Ye3a2jGs",
        "outputId": "ffadd82f-0f2f-4b20-c012-ecf98a81ddd3"
      },
      "source": [
        "class Perceptron:\n",
        "\n",
        "    def __init__(self, learning_rate=0.0001,n_features=31):\n",
        "        self.lr = learning_rate\n",
        "        #self.weights = np.zeros(n_features)\n",
        "        self.weights =np.random.normal(loc=0.0, scale=0.0001, size=n_features)\n",
        "        \n",
        "    def loss(self, X: np.ndarray, y: np.ndarray):\n",
        "        loss=0.0\n",
        "        \n",
        "        scores=np.dot(X,self.weights)#x_train\n",
        "        margins = np.maximum(0,1-y*scores)  \n",
        "        loss=np.sum(margins)/len(scores)\n",
        "        #loss += 0.5 * reg_coeff * np.sum(self.weights *self.weights)\n",
        "        \n",
        "        return loss\n",
        "    \n",
        "    def update_weights(self, X, y):\n",
        "           \n",
        "        for index, x in enumerate(X):\n",
        "\n",
        "                scores = np.dot(x, self.weights)\n",
        "                y_pred = np.where(scores>0, 1, 0)\n",
        "                \n",
        "\n",
        "                #updating weights\n",
        "                self.weights += self.lr * (y[index] - y_pred) * x\n",
        "\n",
        "                \n",
        "    def predict(self, X):\n",
        "        f_x = np.dot(X, self.weights)\n",
        "        f_x=np.where(f_x>0, 1, 0)\n",
        "        \n",
        "        return f_x\n",
        "\n",
        "\n",
        "def accuracy_score(y_test, y_pred):   \n",
        "    return np.mean(y_test == y_pred)\n",
        "\n",
        "\n",
        "clf = Perceptron(learning_rate=1e-8,n_features=31)\n",
        "clf.update_weights(X_train, y_train1)\n",
        "predictions = clf.predict(X_test)\n",
        "\n",
        "print(\"Perceptron accuracy score is :\", accuracy_score(y_test1, predictions))"
      ],
      "execution_count": null,
      "outputs": [
        {
          "output_type": "stream",
          "text": [
            "Perceptron accuracy score is : 0.45614035087719296\n"
          ],
          "name": "stdout"
        }
      ]
    },
    {
      "cell_type": "code",
      "metadata": {
        "id": "IQc4_Tfm2jGw",
        "outputId": "1b54048b-dc0b-41f7-eba7-0e5d36303cd0"
      },
      "source": [
        "\n",
        "model = Perceptron(learning_rate=2e-5,n_features=31)\n",
        "loss_history = []\n",
        "loss_val_history = []\n",
        "for it in range(num_iters):\n",
        "    loss = model.loss(X_train, y_train1)\n",
        "    loss_val = model.loss(X_val, y_val1)\n",
        "    if it % 100 == 0:\n",
        "        val_preds =  model.predict(X_val)\n",
        "        print('iteration %d, loss %f, val acc %.2f%%' % (it, loss,  accuracy_score(y_val1,val_preds) * 100))\n",
        "    model.update_weights(X_train, y_train1)\n",
        "    loss_history.append(loss)\n",
        "    loss_val_history.append(loss_val)"
      ],
      "execution_count": null,
      "outputs": [
        {
          "output_type": "stream",
          "text": [
            "iteration 0, loss 0.988972, val acc 69.57%\n",
            "iteration 100, loss 3.150199, val acc 69.57%\n",
            "iteration 200, loss 5.050521, val acc 58.70%\n",
            "iteration 300, loss 4.758624, val acc 63.04%\n",
            "iteration 400, loss 4.858853, val acc 67.39%\n",
            "iteration 500, loss 4.901093, val acc 67.39%\n",
            "iteration 600, loss 0.924346, val acc 89.13%\n",
            "iteration 700, loss 4.545961, val acc 69.57%\n",
            "iteration 800, loss 1.262725, val acc 89.13%\n",
            "iteration 900, loss 4.242376, val acc 69.57%\n",
            "iteration 1000, loss 1.008104, val acc 89.13%\n",
            "iteration 1100, loss 1.031687, val acc 89.13%\n",
            "iteration 1200, loss 1.041799, val acc 89.13%\n",
            "iteration 1300, loss 1.045807, val acc 89.13%\n",
            "iteration 1400, loss 1.009694, val acc 89.13%\n",
            "iteration 1500, loss 0.995258, val acc 89.13%\n",
            "iteration 1600, loss 4.218038, val acc 69.57%\n",
            "iteration 1700, loss 0.939742, val acc 89.13%\n",
            "iteration 1800, loss 0.959204, val acc 89.13%\n",
            "iteration 1900, loss 0.968530, val acc 89.13%\n",
            "iteration 2000, loss 0.924415, val acc 89.13%\n",
            "iteration 2100, loss 0.952020, val acc 89.13%\n",
            "iteration 2200, loss 0.638659, val acc 91.30%\n",
            "iteration 2300, loss 0.947929, val acc 89.13%\n",
            "iteration 2400, loss 0.976207, val acc 89.13%\n",
            "iteration 2500, loss 1.985176, val acc 82.61%\n",
            "iteration 2600, loss 0.924100, val acc 89.13%\n",
            "iteration 2700, loss 0.658419, val acc 91.30%\n",
            "iteration 2800, loss 0.657171, val acc 89.13%\n",
            "iteration 2900, loss 1.863678, val acc 82.61%\n",
            "iteration 3000, loss 1.845580, val acc 82.61%\n",
            "iteration 3100, loss 0.625017, val acc 91.30%\n",
            "iteration 3200, loss 0.627362, val acc 91.30%\n",
            "iteration 3300, loss 0.692941, val acc 93.48%\n",
            "iteration 3400, loss 0.624734, val acc 91.30%\n",
            "iteration 3500, loss 0.630423, val acc 91.30%\n",
            "iteration 3600, loss 0.888680, val acc 89.13%\n",
            "iteration 3700, loss 0.649265, val acc 91.30%\n",
            "iteration 3800, loss 0.662201, val acc 91.30%\n",
            "iteration 3900, loss 0.730830, val acc 91.30%\n",
            "iteration 4000, loss 0.728774, val acc 93.48%\n",
            "iteration 4100, loss 0.649220, val acc 91.30%\n",
            "iteration 4200, loss 0.639763, val acc 91.30%\n",
            "iteration 4300, loss 0.645193, val acc 91.30%\n",
            "iteration 4400, loss 0.764212, val acc 93.48%\n",
            "iteration 4500, loss 0.651504, val acc 91.30%\n",
            "iteration 4600, loss 0.653359, val acc 91.30%\n",
            "iteration 4700, loss 0.741481, val acc 93.48%\n",
            "iteration 4800, loss 0.741199, val acc 93.48%\n",
            "iteration 4900, loss 0.732756, val acc 93.48%\n",
            "iteration 5000, loss 0.979460, val acc 89.13%\n",
            "iteration 5100, loss 0.960609, val acc 91.30%\n",
            "iteration 5200, loss 0.737577, val acc 93.48%\n",
            "iteration 5300, loss 0.832244, val acc 93.48%\n",
            "iteration 5400, loss 0.824980, val acc 93.48%\n",
            "iteration 5500, loss 0.961239, val acc 89.13%\n",
            "iteration 5600, loss 0.950263, val acc 91.30%\n",
            "iteration 5700, loss 0.877330, val acc 93.48%\n",
            "iteration 5800, loss 0.865557, val acc 93.48%\n",
            "iteration 5900, loss 0.862458, val acc 93.48%\n",
            "iteration 6000, loss 0.940982, val acc 93.48%\n",
            "iteration 6100, loss 0.948896, val acc 93.48%\n",
            "iteration 6200, loss 0.843403, val acc 93.48%\n",
            "iteration 6300, loss 0.948477, val acc 93.48%\n",
            "iteration 6400, loss 0.802819, val acc 93.48%\n",
            "iteration 6500, loss 0.814811, val acc 93.48%\n",
            "iteration 6600, loss 0.930209, val acc 93.48%\n",
            "iteration 6700, loss 0.791339, val acc 93.48%\n",
            "iteration 6800, loss 0.837101, val acc 93.48%\n",
            "iteration 6900, loss 0.705131, val acc 93.48%\n",
            "iteration 7000, loss 1.705584, val acc 84.78%\n",
            "iteration 7100, loss 0.861632, val acc 93.48%\n",
            "iteration 7200, loss 0.861368, val acc 93.48%\n",
            "iteration 7300, loss 0.860720, val acc 93.48%\n",
            "iteration 7400, loss 0.519226, val acc 93.48%\n",
            "iteration 7500, loss 1.646619, val acc 84.78%\n",
            "iteration 7600, loss 1.630281, val acc 84.78%\n",
            "iteration 7700, loss 0.537819, val acc 91.30%\n",
            "iteration 7800, loss 0.808377, val acc 93.48%\n",
            "iteration 7900, loss 1.448617, val acc 89.13%\n",
            "iteration 8000, loss 0.538475, val acc 91.30%\n",
            "iteration 8100, loss 0.875405, val acc 93.48%\n",
            "iteration 8200, loss 0.802143, val acc 93.48%\n",
            "iteration 8300, loss 0.533758, val acc 91.30%\n",
            "iteration 8400, loss 0.533469, val acc 93.48%\n",
            "iteration 8500, loss 1.454744, val acc 89.13%\n",
            "iteration 8600, loss 0.805558, val acc 93.48%\n",
            "iteration 8700, loss 0.537509, val acc 93.48%\n",
            "iteration 8800, loss 0.871594, val acc 93.48%\n",
            "iteration 8900, loss 0.534459, val acc 91.30%\n",
            "iteration 9000, loss 0.802880, val acc 93.48%\n",
            "iteration 9100, loss 0.803160, val acc 93.48%\n",
            "iteration 9200, loss 0.871812, val acc 93.48%\n",
            "iteration 9300, loss 0.794535, val acc 93.48%\n",
            "iteration 9400, loss 0.533192, val acc 93.48%\n",
            "iteration 9500, loss 1.583104, val acc 89.13%\n",
            "iteration 9600, loss 1.704632, val acc 84.78%\n",
            "iteration 9700, loss 1.651887, val acc 86.96%\n",
            "iteration 9800, loss 0.853322, val acc 93.48%\n",
            "iteration 9900, loss 1.372695, val acc 89.13%\n",
            "iteration 10000, loss 1.558121, val acc 89.13%\n",
            "iteration 10100, loss 1.546914, val acc 89.13%\n",
            "iteration 10200, loss 1.560380, val acc 86.96%\n",
            "iteration 10300, loss 1.580429, val acc 86.96%\n",
            "iteration 10400, loss 1.552063, val acc 86.96%\n",
            "iteration 10500, loss 1.468885, val acc 89.13%\n",
            "iteration 10600, loss 1.541769, val acc 89.13%\n",
            "iteration 10700, loss 1.548062, val acc 89.13%\n",
            "iteration 10800, loss 1.658964, val acc 86.96%\n",
            "iteration 10900, loss 1.571656, val acc 86.96%\n",
            "iteration 11000, loss 1.666324, val acc 86.96%\n",
            "iteration 11100, loss 1.555725, val acc 89.13%\n",
            "iteration 11200, loss 1.736300, val acc 84.78%\n",
            "iteration 11300, loss 1.532374, val acc 89.13%\n",
            "iteration 11400, loss 1.364211, val acc 89.13%\n",
            "iteration 11500, loss 1.384922, val acc 89.13%\n",
            "iteration 11600, loss 1.444104, val acc 89.13%\n",
            "iteration 11700, loss 1.426580, val acc 89.13%\n",
            "iteration 11800, loss 1.529659, val acc 89.13%\n",
            "iteration 11900, loss 1.391471, val acc 89.13%\n",
            "iteration 12000, loss 1.544968, val acc 89.13%\n",
            "iteration 12100, loss 1.680247, val acc 86.96%\n",
            "iteration 12200, loss 1.624202, val acc 86.96%\n",
            "iteration 12300, loss 1.564605, val acc 86.96%\n",
            "iteration 12400, loss 1.409223, val acc 89.13%\n",
            "iteration 12500, loss 1.402504, val acc 89.13%\n",
            "iteration 12600, loss 1.484992, val acc 86.96%\n",
            "iteration 12700, loss 1.702926, val acc 86.96%\n",
            "iteration 12800, loss 1.754969, val acc 86.96%\n",
            "iteration 12900, loss 1.548680, val acc 86.96%\n",
            "iteration 13000, loss 1.541189, val acc 86.96%\n",
            "iteration 13100, loss 1.541665, val acc 86.96%\n",
            "iteration 13200, loss 1.535159, val acc 86.96%\n",
            "iteration 13300, loss 1.652354, val acc 86.96%\n",
            "iteration 13400, loss 1.524386, val acc 86.96%\n",
            "iteration 13500, loss 1.634133, val acc 86.96%\n",
            "iteration 13600, loss 1.623544, val acc 86.96%\n",
            "iteration 13700, loss 1.470204, val acc 86.96%\n",
            "iteration 13800, loss 1.434723, val acc 86.96%\n",
            "iteration 13900, loss 1.633754, val acc 86.96%\n",
            "iteration 14000, loss 1.523899, val acc 86.96%\n",
            "iteration 14100, loss 1.765363, val acc 84.78%\n",
            "iteration 14200, loss 1.626517, val acc 86.96%\n",
            "iteration 14300, loss 1.606402, val acc 86.96%\n",
            "iteration 14400, loss 1.566243, val acc 86.96%\n",
            "iteration 14500, loss 1.612367, val acc 86.96%\n",
            "iteration 14600, loss 1.342614, val acc 89.13%\n",
            "iteration 14700, loss 1.585359, val acc 86.96%\n",
            "iteration 14800, loss 1.597901, val acc 86.96%\n",
            "iteration 14900, loss 1.331472, val acc 86.96%\n"
          ],
          "name": "stdout"
        }
      ]
    },
    {
      "cell_type": "code",
      "metadata": {
        "id": "Ibw1iD2A2jGz",
        "outputId": "d4686f50-f211-4166-fe4b-8e52f6441800"
      },
      "source": [
        "plt.plot(np.arange(num_iters),loss_val_history ,label =\"loss_val_history\")\n",
        "plt.plot(np.arange(num_iters),loss_history ,label=\"loss_train_history\")\n",
        "plt.legend() \n",
        "plt.xlabel('number of iterations')\n",
        "\n",
        "plt.ylabel('loss_history')\n",
        "plt.show()"
      ],
      "execution_count": null,
      "outputs": [
        {
          "output_type": "display_data",
          "data": {
            "image/png": "[encoded data removed]",
            "text/plain": [
              "<Figure size 720x720 with 1 Axes>"
            ]
          },
          "metadata": {
            "tags": [],
            "needs_background": "light"
          }
        }
      ]
    },
    {
      "cell_type": "code",
      "metadata": {
        "id": "rDcslLVw2jG0",
        "outputId": "57132e63-226b-4882-ac91-b1f6e8c294a8"
      },
      "source": [
        "val_preds =  model.predict(X_test)\n",
        "\n",
        "def confusion_matrix(y_test, y_pred):\n",
        "    TN,TP,FN,FP=0,0,0,0\n",
        "    for i in range(len(y_test)):\n",
        "        if y_test[i]==0 and y_pred[i]==0:\n",
        "            TN+=1\n",
        "        elif y_test[i]==1 and y_pred[i]==1:\n",
        "            TP+=1\n",
        "        elif y_test[i]==1 and y_pred[i]==0:\n",
        "            FN+=1   \n",
        "        else:\n",
        "            FP+=1\n",
        "            \n",
        "    return TN,TP,FN,FP    \n",
        "print(\"confusion_matrix perceptron\")\n",
        "print(\"TN,TP,FN,FP are:\")\n",
        "print(confusion_matrix(y_test1,val_preds))\n",
        "print(\"\")\n",
        "\n",
        "def classification_report(y_test, y_pred):#accuracy, precision, recall, specificity, f1Score\n",
        "    TN,TP,FN,FP =confusion_matrix(y_test, val_preds)\n",
        "    totall=TN+TP+FN+FP\n",
        "    specificity=TN/(TN+FP)#True Negative)/(True Negative + False Positive\n",
        "    precision=TP/(TP+FP)\n",
        "    recall=TP/(TP+FN)\n",
        "    accuracy=(TP+TN)/totall\n",
        "    f1score=(2*precision*recall)/(precision+recall)\n",
        "    return accuracy, precision, recall, specificity, f1score\n",
        "print(\"classification report perceptron\")\n",
        "print(\"accuracy, precision, recall, specificity, f1Score are:\")\n",
        "print(classification_report(y_test1,val_preds))\n"
      ],
      "execution_count": null,
      "outputs": [
        {
          "output_type": "stream",
          "text": [
            "confusion_matrix perceptron\n",
            "TN,TP,FN,FP are:\n",
            "(34, 67, 13, 0)\n",
            "\n",
            "classification report perceptron\n",
            "accuracy, precision, recall, specificity, f1Score are:\n",
            "(0.8859649122807017, 1.0, 0.8375, 1.0, 0.9115646258503401)\n"
          ],
          "name": "stdout"
        }
      ]
    },
    {
      "cell_type": "code",
      "metadata": {
        "id": "9bffalAi2jG3"
      },
      "source": [
        "std = \".001\"\n",
        "num_iters = \"1000\"\n",
        "reg_coeff = \"20\"\n",
        "learning_rate = \"5e-5\"\n"
      ],
      "execution_count": null,
      "outputs": []
    }
  ]
}