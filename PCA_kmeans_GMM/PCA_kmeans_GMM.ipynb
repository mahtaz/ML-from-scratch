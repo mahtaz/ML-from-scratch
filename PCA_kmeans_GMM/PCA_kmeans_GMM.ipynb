{
  "nbformat": 4,
  "nbformat_minor": 0,
  "metadata": {
    "colab": {
      "name": "PCA_k means_GMM.ipynb",
      "provenance": [],
      "collapsed_sections": [],
      "toc_visible": true
    },
    "kernelspec": {
      "display_name": "Python 3",
      "language": "python",
      "name": "python3"
    },
    "language_info": {
      "codemirror_mode": {
        "name": "ipython",
        "version": 3
      },
      "file_extension": ".py",
      "mimetype": "text/x-python",
      "name": "python",
      "nbconvert_exporter": "python",
      "pygments_lexer": "ipython3",
      "version": "3.7.6"
    }
  },
  "cells": [
    {
      "cell_type": "markdown",
      "metadata": {
        "id": "OTQVem0I8SgS"
      },
      "source": [
        "## Imports"
      ]
    },
    {
      "cell_type": "markdown",
      "metadata": {
        "id": "JgyrjEtdKY4k"
      },
      "source": [
        "run below cell to import necessary libraries. You are only allowed to use these libraries"
      ]
    },
    {
      "cell_type": "code",
      "metadata": {
        "id": "X4CELfLm8UpR"
      },
      "source": [
        "import pandas as pd\n",
        "import numpy as np\n",
        "import matplotlib.pyplot as plt\n",
        "%matplotlib inline\n",
        "import seaborn as sns\n",
        "from sklearn.manifold import TSNE\n",
        "from sklearn.decomposition import PCA\n",
        "\n",
        "sns.set(rc={'figure.figsize':(11.7,8.27)})\n",
        "palette = sns.color_palette(\"bright\", 2)\n",
        "\n"
      ],
      "execution_count": null,
      "outputs": []
    },
    {
      "cell_type": "markdown",
      "metadata": {
        "id": "hVgBVxJ4rqw3"
      },
      "source": [
        "## Dataset (10 points)"
      ]
    },
    {
      "cell_type": "markdown",
      "metadata": {
        "id": "gSsTXPNcKPl-"
      },
      "source": [
        "This dataset comes from a proof-of-concept study published in 1999 by Golub et al. It showed how new cases of cancer could be classified by gene expression monitoring (via DNA microarray) and thereby provided a general approach for identifying new cancer classes and assigning tumors to known classes. These data were used to classify patients with acute myeloid leukemia (AML) and acute lymphoblastic leukemia (ALL)."
      ]
    },
    {
      "cell_type": "code",
      "metadata": {
        "id": "ICKMn_n9rtkv",
        "outputId": "9fd9ba7a-84b9-4d21-c270-1e1795d906e5"
      },
      "source": [
        "#####################################################################################\n",
        "#                          COMPLETE THE FOLLOWING SECTION                           #\n",
        "#####################################################################################\n",
        "# load all data using pandas. \n",
        "# DataSet.csv as train dataset.\n",
        "# labels.csv as data labels.\n",
        "# And Drop columns including call name as these columns as it doesn't have any \n",
        "# statistical relevance\n",
        "##################################################################################### \n",
        "Train_Data = pd.read_csv(\"DataSet.csv\")\n",
        "Train_Data.drop(['Gene Description','Gene Accession Number'], axis=1,inplace=True)\n",
        "labels =pd.read_csv(\"labels.csv\")\n",
        "labels.drop(['patient'], axis=1,inplace=True)\n",
        "####################################################################################\n",
        "#                                   THE END                                        #\n",
        "####################################################################################  \n",
        "Train_Data.head()\n"
      ],
      "execution_count": null,
      "outputs": [
        {
          "output_type": "execute_result",
          "data": {
            "text/html": [
              "<div>\n",
              "<style scoped>\n",
              "    .dataframe tbody tr th:only-of-type {\n",
              "        vertical-align: middle;\n",
              "    }\n",
              "\n",
              "    .dataframe tbody tr th {\n",
              "        vertical-align: top;\n",
              "    }\n",
              "\n",
              "    .dataframe thead th {\n",
              "        text-align: right;\n",
              "    }\n",
              "</style>\n",
              "<table border=\"1\" class=\"dataframe\">\n",
              "  <thead>\n",
              "    <tr style=\"text-align: right;\">\n",
              "      <th></th>\n",
              "      <th>1</th>\n",
              "      <th>2</th>\n",
              "      <th>3</th>\n",
              "      <th>4</th>\n",
              "      <th>5</th>\n",
              "      <th>6</th>\n",
              "      <th>7</th>\n",
              "      <th>8</th>\n",
              "      <th>9</th>\n",
              "      <th>10</th>\n",
              "      <th>...</th>\n",
              "      <th>57</th>\n",
              "      <th>58</th>\n",
              "      <th>60</th>\n",
              "      <th>61</th>\n",
              "      <th>65</th>\n",
              "      <th>66</th>\n",
              "      <th>63</th>\n",
              "      <th>64</th>\n",
              "      <th>62</th>\n",
              "      <th>72</th>\n",
              "    </tr>\n",
              "  </thead>\n",
              "  <tbody>\n",
              "    <tr>\n",
              "      <th>0</th>\n",
              "      <td>-214</td>\n",
              "      <td>-139</td>\n",
              "      <td>-76</td>\n",
              "      <td>-135</td>\n",
              "      <td>-106</td>\n",
              "      <td>-138</td>\n",
              "      <td>-72</td>\n",
              "      <td>-413</td>\n",
              "      <td>5</td>\n",
              "      <td>-88</td>\n",
              "      <td>...</td>\n",
              "      <td>-137</td>\n",
              "      <td>-157</td>\n",
              "      <td>-172</td>\n",
              "      <td>-47</td>\n",
              "      <td>-62</td>\n",
              "      <td>-58</td>\n",
              "      <td>-161</td>\n",
              "      <td>-48</td>\n",
              "      <td>-176</td>\n",
              "      <td>-131</td>\n",
              "    </tr>\n",
              "    <tr>\n",
              "      <th>1</th>\n",
              "      <td>-153</td>\n",
              "      <td>-73</td>\n",
              "      <td>-49</td>\n",
              "      <td>-114</td>\n",
              "      <td>-125</td>\n",
              "      <td>-85</td>\n",
              "      <td>-144</td>\n",
              "      <td>-260</td>\n",
              "      <td>-127</td>\n",
              "      <td>-105</td>\n",
              "      <td>...</td>\n",
              "      <td>-51</td>\n",
              "      <td>-370</td>\n",
              "      <td>-122</td>\n",
              "      <td>-442</td>\n",
              "      <td>-198</td>\n",
              "      <td>-217</td>\n",
              "      <td>-215</td>\n",
              "      <td>-531</td>\n",
              "      <td>-284</td>\n",
              "      <td>-126</td>\n",
              "    </tr>\n",
              "    <tr>\n",
              "      <th>2</th>\n",
              "      <td>-58</td>\n",
              "      <td>-1</td>\n",
              "      <td>-307</td>\n",
              "      <td>265</td>\n",
              "      <td>-76</td>\n",
              "      <td>215</td>\n",
              "      <td>238</td>\n",
              "      <td>7</td>\n",
              "      <td>106</td>\n",
              "      <td>42</td>\n",
              "      <td>...</td>\n",
              "      <td>-82</td>\n",
              "      <td>-77</td>\n",
              "      <td>38</td>\n",
              "      <td>-21</td>\n",
              "      <td>-5</td>\n",
              "      <td>63</td>\n",
              "      <td>-46</td>\n",
              "      <td>-124</td>\n",
              "      <td>-81</td>\n",
              "      <td>-50</td>\n",
              "    </tr>\n",
              "    <tr>\n",
              "      <th>3</th>\n",
              "      <td>88</td>\n",
              "      <td>283</td>\n",
              "      <td>309</td>\n",
              "      <td>12</td>\n",
              "      <td>168</td>\n",
              "      <td>71</td>\n",
              "      <td>55</td>\n",
              "      <td>-2</td>\n",
              "      <td>268</td>\n",
              "      <td>219</td>\n",
              "      <td>...</td>\n",
              "      <td>178</td>\n",
              "      <td>340</td>\n",
              "      <td>31</td>\n",
              "      <td>396</td>\n",
              "      <td>141</td>\n",
              "      <td>95</td>\n",
              "      <td>146</td>\n",
              "      <td>431</td>\n",
              "      <td>9</td>\n",
              "      <td>211</td>\n",
              "    </tr>\n",
              "    <tr>\n",
              "      <th>4</th>\n",
              "      <td>-295</td>\n",
              "      <td>-264</td>\n",
              "      <td>-376</td>\n",
              "      <td>-419</td>\n",
              "      <td>-230</td>\n",
              "      <td>-272</td>\n",
              "      <td>-399</td>\n",
              "      <td>-541</td>\n",
              "      <td>-210</td>\n",
              "      <td>-178</td>\n",
              "      <td>...</td>\n",
              "      <td>-135</td>\n",
              "      <td>-438</td>\n",
              "      <td>-201</td>\n",
              "      <td>-351</td>\n",
              "      <td>-256</td>\n",
              "      <td>-191</td>\n",
              "      <td>-172</td>\n",
              "      <td>-496</td>\n",
              "      <td>-294</td>\n",
              "      <td>-206</td>\n",
              "    </tr>\n",
              "  </tbody>\n",
              "</table>\n",
              "<p>5 rows × 72 columns</p>\n",
              "</div>"
            ],
            "text/plain": [
              "     1    2    3    4    5    6    7    8    9   10  ...   57   58   60   61  \\\n",
              "0 -214 -139  -76 -135 -106 -138  -72 -413    5  -88  ... -137 -157 -172  -47   \n",
              "1 -153  -73  -49 -114 -125  -85 -144 -260 -127 -105  ...  -51 -370 -122 -442   \n",
              "2  -58   -1 -307  265  -76  215  238    7  106   42  ...  -82  -77   38  -21   \n",
              "3   88  283  309   12  168   71   55   -2  268  219  ...  178  340   31  396   \n",
              "4 -295 -264 -376 -419 -230 -272 -399 -541 -210 -178  ... -135 -438 -201 -351   \n",
              "\n",
              "    65   66   63   64   62   72  \n",
              "0  -62  -58 -161  -48 -176 -131  \n",
              "1 -198 -217 -215 -531 -284 -126  \n",
              "2   -5   63  -46 -124  -81  -50  \n",
              "3  141   95  146  431    9  211  \n",
              "4 -256 -191 -172 -496 -294 -206  \n",
              "\n",
              "[5 rows x 72 columns]"
            ]
          },
          "metadata": {
            "tags": []
          },
          "execution_count": 4
        }
      ]
    },
    {
      "cell_type": "markdown",
      "metadata": {
        "id": "yEVNpveEPL58"
      },
      "source": [
        "Here we go to pre process the data for pca analysis. do these steps one by one"
      ]
    },
    {
      "cell_type": "code",
      "metadata": {
        "id": "O5PpJg558njC",
        "outputId": "2fee9bfa-bfa1-479a-a3fe-fa971a2aad30"
      },
      "source": [
        "\n",
        "\n",
        "\n",
        "\n",
        "\n",
        "#\n",
        "#####################################################################################\n",
        "# Drop Gene Description and Gene Accession Number to have a numeric matrix.\n",
        "# the result should be stored in train variable.\n",
        "#####################################################################################\n",
        "train = Train_Data\n",
        "####################################################################################\n",
        "#                                   THE END                                        #\n",
        "####################################################################################  \n",
        "train.index = pd.to_numeric(train.index)\n",
        "train.sort_index(inplace=True)\n",
        "train\n"
      ],
      "execution_count": null,
      "outputs": [
        {
          "output_type": "execute_result",
          "data": {
            "text/html": [
              "<div>\n",
              "<style scoped>\n",
              "    .dataframe tbody tr th:only-of-type {\n",
              "        vertical-align: middle;\n",
              "    }\n",
              "\n",
              "    .dataframe tbody tr th {\n",
              "        vertical-align: top;\n",
              "    }\n",
              "\n",
              "    .dataframe thead th {\n",
              "        text-align: right;\n",
              "    }\n",
              "</style>\n",
              "<table border=\"1\" class=\"dataframe\">\n",
              "  <thead>\n",
              "    <tr style=\"text-align: right;\">\n",
              "      <th></th>\n",
              "      <th>1</th>\n",
              "      <th>2</th>\n",
              "      <th>3</th>\n",
              "      <th>4</th>\n",
              "      <th>5</th>\n",
              "      <th>6</th>\n",
              "      <th>7</th>\n",
              "      <th>8</th>\n",
              "      <th>9</th>\n",
              "      <th>10</th>\n",
              "      <th>...</th>\n",
              "      <th>57</th>\n",
              "      <th>58</th>\n",
              "      <th>60</th>\n",
              "      <th>61</th>\n",
              "      <th>65</th>\n",
              "      <th>66</th>\n",
              "      <th>63</th>\n",
              "      <th>64</th>\n",
              "      <th>62</th>\n",
              "      <th>72</th>\n",
              "    </tr>\n",
              "  </thead>\n",
              "  <tbody>\n",
              "    <tr>\n",
              "      <th>0</th>\n",
              "      <td>-214</td>\n",
              "      <td>-139</td>\n",
              "      <td>-76</td>\n",
              "      <td>-135</td>\n",
              "      <td>-106</td>\n",
              "      <td>-138</td>\n",
              "      <td>-72</td>\n",
              "      <td>-413</td>\n",
              "      <td>5</td>\n",
              "      <td>-88</td>\n",
              "      <td>...</td>\n",
              "      <td>-137</td>\n",
              "      <td>-157</td>\n",
              "      <td>-172</td>\n",
              "      <td>-47</td>\n",
              "      <td>-62</td>\n",
              "      <td>-58</td>\n",
              "      <td>-161</td>\n",
              "      <td>-48</td>\n",
              "      <td>-176</td>\n",
              "      <td>-131</td>\n",
              "    </tr>\n",
              "    <tr>\n",
              "      <th>1</th>\n",
              "      <td>-153</td>\n",
              "      <td>-73</td>\n",
              "      <td>-49</td>\n",
              "      <td>-114</td>\n",
              "      <td>-125</td>\n",
              "      <td>-85</td>\n",
              "      <td>-144</td>\n",
              "      <td>-260</td>\n",
              "      <td>-127</td>\n",
              "      <td>-105</td>\n",
              "      <td>...</td>\n",
              "      <td>-51</td>\n",
              "      <td>-370</td>\n",
              "      <td>-122</td>\n",
              "      <td>-442</td>\n",
              "      <td>-198</td>\n",
              "      <td>-217</td>\n",
              "      <td>-215</td>\n",
              "      <td>-531</td>\n",
              "      <td>-284</td>\n",
              "      <td>-126</td>\n",
              "    </tr>\n",
              "    <tr>\n",
              "      <th>2</th>\n",
              "      <td>-58</td>\n",
              "      <td>-1</td>\n",
              "      <td>-307</td>\n",
              "      <td>265</td>\n",
              "      <td>-76</td>\n",
              "      <td>215</td>\n",
              "      <td>238</td>\n",
              "      <td>7</td>\n",
              "      <td>106</td>\n",
              "      <td>42</td>\n",
              "      <td>...</td>\n",
              "      <td>-82</td>\n",
              "      <td>-77</td>\n",
              "      <td>38</td>\n",
              "      <td>-21</td>\n",
              "      <td>-5</td>\n",
              "      <td>63</td>\n",
              "      <td>-46</td>\n",
              "      <td>-124</td>\n",
              "      <td>-81</td>\n",
              "      <td>-50</td>\n",
              "    </tr>\n",
              "    <tr>\n",
              "      <th>3</th>\n",
              "      <td>88</td>\n",
              "      <td>283</td>\n",
              "      <td>309</td>\n",
              "      <td>12</td>\n",
              "      <td>168</td>\n",
              "      <td>71</td>\n",
              "      <td>55</td>\n",
              "      <td>-2</td>\n",
              "      <td>268</td>\n",
              "      <td>219</td>\n",
              "      <td>...</td>\n",
              "      <td>178</td>\n",
              "      <td>340</td>\n",
              "      <td>31</td>\n",
              "      <td>396</td>\n",
              "      <td>141</td>\n",
              "      <td>95</td>\n",
              "      <td>146</td>\n",
              "      <td>431</td>\n",
              "      <td>9</td>\n",
              "      <td>211</td>\n",
              "    </tr>\n",
              "    <tr>\n",
              "      <th>4</th>\n",
              "      <td>-295</td>\n",
              "      <td>-264</td>\n",
              "      <td>-376</td>\n",
              "      <td>-419</td>\n",
              "      <td>-230</td>\n",
              "      <td>-272</td>\n",
              "      <td>-399</td>\n",
              "      <td>-541</td>\n",
              "      <td>-210</td>\n",
              "      <td>-178</td>\n",
              "      <td>...</td>\n",
              "      <td>-135</td>\n",
              "      <td>-438</td>\n",
              "      <td>-201</td>\n",
              "      <td>-351</td>\n",
              "      <td>-256</td>\n",
              "      <td>-191</td>\n",
              "      <td>-172</td>\n",
              "      <td>-496</td>\n",
              "      <td>-294</td>\n",
              "      <td>-206</td>\n",
              "    </tr>\n",
              "    <tr>\n",
              "      <th>...</th>\n",
              "      <td>...</td>\n",
              "      <td>...</td>\n",
              "      <td>...</td>\n",
              "      <td>...</td>\n",
              "      <td>...</td>\n",
              "      <td>...</td>\n",
              "      <td>...</td>\n",
              "      <td>...</td>\n",
              "      <td>...</td>\n",
              "      <td>...</td>\n",
              "      <td>...</td>\n",
              "      <td>...</td>\n",
              "      <td>...</td>\n",
              "      <td>...</td>\n",
              "      <td>...</td>\n",
              "      <td>...</td>\n",
              "      <td>...</td>\n",
              "      <td>...</td>\n",
              "      <td>...</td>\n",
              "      <td>...</td>\n",
              "      <td>...</td>\n",
              "    </tr>\n",
              "    <tr>\n",
              "      <th>7124</th>\n",
              "      <td>793</td>\n",
              "      <td>782</td>\n",
              "      <td>1138</td>\n",
              "      <td>627</td>\n",
              "      <td>250</td>\n",
              "      <td>645</td>\n",
              "      <td>1140</td>\n",
              "      <td>1799</td>\n",
              "      <td>758</td>\n",
              "      <td>570</td>\n",
              "      <td>...</td>\n",
              "      <td>507</td>\n",
              "      <td>1372</td>\n",
              "      <td>87</td>\n",
              "      <td>1111</td>\n",
              "      <td>707</td>\n",
              "      <td>423</td>\n",
              "      <td>809</td>\n",
              "      <td>466</td>\n",
              "      <td>551</td>\n",
              "      <td>874</td>\n",
              "    </tr>\n",
              "    <tr>\n",
              "      <th>7125</th>\n",
              "      <td>329</td>\n",
              "      <td>295</td>\n",
              "      <td>777</td>\n",
              "      <td>170</td>\n",
              "      <td>314</td>\n",
              "      <td>341</td>\n",
              "      <td>482</td>\n",
              "      <td>446</td>\n",
              "      <td>385</td>\n",
              "      <td>359</td>\n",
              "      <td>...</td>\n",
              "      <td>64</td>\n",
              "      <td>642</td>\n",
              "      <td>98</td>\n",
              "      <td>459</td>\n",
              "      <td>354</td>\n",
              "      <td>41</td>\n",
              "      <td>445</td>\n",
              "      <td>349</td>\n",
              "      <td>194</td>\n",
              "      <td>393</td>\n",
              "    </tr>\n",
              "    <tr>\n",
              "      <th>7126</th>\n",
              "      <td>36</td>\n",
              "      <td>11</td>\n",
              "      <td>41</td>\n",
              "      <td>-50</td>\n",
              "      <td>14</td>\n",
              "      <td>26</td>\n",
              "      <td>10</td>\n",
              "      <td>59</td>\n",
              "      <td>115</td>\n",
              "      <td>9</td>\n",
              "      <td>...</td>\n",
              "      <td>-11</td>\n",
              "      <td>-9</td>\n",
              "      <td>-26</td>\n",
              "      <td>-8</td>\n",
              "      <td>-22</td>\n",
              "      <td>0</td>\n",
              "      <td>-2</td>\n",
              "      <td>0</td>\n",
              "      <td>20</td>\n",
              "      <td>34</td>\n",
              "    </tr>\n",
              "    <tr>\n",
              "      <th>7127</th>\n",
              "      <td>191</td>\n",
              "      <td>76</td>\n",
              "      <td>228</td>\n",
              "      <td>126</td>\n",
              "      <td>56</td>\n",
              "      <td>193</td>\n",
              "      <td>369</td>\n",
              "      <td>781</td>\n",
              "      <td>244</td>\n",
              "      <td>171</td>\n",
              "      <td>...</td>\n",
              "      <td>198</td>\n",
              "      <td>608</td>\n",
              "      <td>153</td>\n",
              "      <td>73</td>\n",
              "      <td>260</td>\n",
              "      <td>1777</td>\n",
              "      <td>210</td>\n",
              "      <td>284</td>\n",
              "      <td>379</td>\n",
              "      <td>237</td>\n",
              "    </tr>\n",
              "    <tr>\n",
              "      <th>7128</th>\n",
              "      <td>-37</td>\n",
              "      <td>-14</td>\n",
              "      <td>-41</td>\n",
              "      <td>-91</td>\n",
              "      <td>-25</td>\n",
              "      <td>-53</td>\n",
              "      <td>-42</td>\n",
              "      <td>20</td>\n",
              "      <td>-39</td>\n",
              "      <td>7</td>\n",
              "      <td>...</td>\n",
              "      <td>-33</td>\n",
              "      <td>-71</td>\n",
              "      <td>-49</td>\n",
              "      <td>-41</td>\n",
              "      <td>5</td>\n",
              "      <td>-49</td>\n",
              "      <td>16</td>\n",
              "      <td>-73</td>\n",
              "      <td>-60</td>\n",
              "      <td>-2</td>\n",
              "    </tr>\n",
              "  </tbody>\n",
              "</table>\n",
              "<p>7129 rows × 72 columns</p>\n",
              "</div>"
            ],
            "text/plain": [
              "        1    2     3    4    5    6     7     8    9   10  ...   57    58  \\\n",
              "0    -214 -139   -76 -135 -106 -138   -72  -413    5  -88  ... -137  -157   \n",
              "1    -153  -73   -49 -114 -125  -85  -144  -260 -127 -105  ...  -51  -370   \n",
              "2     -58   -1  -307  265  -76  215   238     7  106   42  ...  -82   -77   \n",
              "3      88  283   309   12  168   71    55    -2  268  219  ...  178   340   \n",
              "4    -295 -264  -376 -419 -230 -272  -399  -541 -210 -178  ... -135  -438   \n",
              "...   ...  ...   ...  ...  ...  ...   ...   ...  ...  ...  ...  ...   ...   \n",
              "7124  793  782  1138  627  250  645  1140  1799  758  570  ...  507  1372   \n",
              "7125  329  295   777  170  314  341   482   446  385  359  ...   64   642   \n",
              "7126   36   11    41  -50   14   26    10    59  115    9  ...  -11    -9   \n",
              "7127  191   76   228  126   56  193   369   781  244  171  ...  198   608   \n",
              "7128  -37  -14   -41  -91  -25  -53   -42    20  -39    7  ...  -33   -71   \n",
              "\n",
              "       60    61   65    66   63   64   62   72  \n",
              "0    -172   -47  -62   -58 -161  -48 -176 -131  \n",
              "1    -122  -442 -198  -217 -215 -531 -284 -126  \n",
              "2      38   -21   -5    63  -46 -124  -81  -50  \n",
              "3      31   396  141    95  146  431    9  211  \n",
              "4    -201  -351 -256  -191 -172 -496 -294 -206  \n",
              "...   ...   ...  ...   ...  ...  ...  ...  ...  \n",
              "7124   87  1111  707   423  809  466  551  874  \n",
              "7125   98   459  354    41  445  349  194  393  \n",
              "7126  -26    -8  -22     0   -2    0   20   34  \n",
              "7127  153    73  260  1777  210  284  379  237  \n",
              "7128  -49   -41    5   -49   16  -73  -60   -2  \n",
              "\n",
              "[7129 rows x 72 columns]"
            ]
          },
          "metadata": {
            "tags": []
          },
          "execution_count": 5
        }
      ]
    },
    {
      "cell_type": "markdown",
      "metadata": {
        "id": "gppaxpk-RtXD"
      },
      "source": [
        "## Variable Selection\n",
        "\n",
        "To reduce the computation costs, instead of working on all 20184 genes present in the dataset, we will focus on 1000 genes that have the most variance."
      ]
    },
    {
      "cell_type": "code",
      "metadata": {
        "id": "ajzcaXDXRr-P",
        "outputId": "5fa8371c-d734-4793-d732-3b0a570b4d35"
      },
      "source": [
        "# TODO: limited_data should contain columns of data corresponding to genes with most variance\n",
        "import statistics\n",
        "variances,limited_data_list=[],[]\n",
        "for i in range(len(train)):\n",
        "    variances.append([statistics.variance(train.loc[i,:]),i])\n",
        "    \n",
        "sorted_variances=sorted(variances)[::-1]# bigest to smallest\n",
        "for i in range(1000):\n",
        "    loc=sorted_variances[i][1]\n",
        "    limited_data_list.append(train.loc[loc,:].tolist())\n",
        "\n",
        "limited_data=pd.DataFrame(limited_data_list,columns=[i for i in range(72)])\n",
        "limited_data=limited_data.T\n",
        "limited_data"
      ],
      "execution_count": null,
      "outputs": [
        {
          "output_type": "execute_result",
          "data": {
            "text/html": [
              "<div>\n",
              "<style scoped>\n",
              "    .dataframe tbody tr th:only-of-type {\n",
              "        vertical-align: middle;\n",
              "    }\n",
              "\n",
              "    .dataframe tbody tr th {\n",
              "        vertical-align: top;\n",
              "    }\n",
              "\n",
              "    .dataframe thead th {\n",
              "        text-align: right;\n",
              "    }\n",
              "</style>\n",
              "<table border=\"1\" class=\"dataframe\">\n",
              "  <thead>\n",
              "    <tr style=\"text-align: right;\">\n",
              "      <th></th>\n",
              "      <th>0</th>\n",
              "      <th>1</th>\n",
              "      <th>2</th>\n",
              "      <th>3</th>\n",
              "      <th>4</th>\n",
              "      <th>5</th>\n",
              "      <th>6</th>\n",
              "      <th>7</th>\n",
              "      <th>8</th>\n",
              "      <th>9</th>\n",
              "      <th>...</th>\n",
              "      <th>990</th>\n",
              "      <th>991</th>\n",
              "      <th>992</th>\n",
              "      <th>993</th>\n",
              "      <th>994</th>\n",
              "      <th>995</th>\n",
              "      <th>996</th>\n",
              "      <th>997</th>\n",
              "      <th>998</th>\n",
              "      <th>999</th>\n",
              "    </tr>\n",
              "  </thead>\n",
              "  <tbody>\n",
              "    <tr>\n",
              "      <th>0</th>\n",
              "      <td>17602</td>\n",
              "      <td>17962</td>\n",
              "      <td>15091</td>\n",
              "      <td>21011</td>\n",
              "      <td>-272</td>\n",
              "      <td>31086</td>\n",
              "      <td>8656</td>\n",
              "      <td>20764</td>\n",
              "      <td>-113</td>\n",
              "      <td>19748</td>\n",
              "      <td>...</td>\n",
              "      <td>443</td>\n",
              "      <td>695</td>\n",
              "      <td>509</td>\n",
              "      <td>-796</td>\n",
              "      <td>788</td>\n",
              "      <td>1624</td>\n",
              "      <td>536</td>\n",
              "      <td>730</td>\n",
              "      <td>1917</td>\n",
              "      <td>1183</td>\n",
              "    </tr>\n",
              "    <tr>\n",
              "      <th>1</th>\n",
              "      <td>9868</td>\n",
              "      <td>16964</td>\n",
              "      <td>11038</td>\n",
              "      <td>25240</td>\n",
              "      <td>-194</td>\n",
              "      <td>29288</td>\n",
              "      <td>13285</td>\n",
              "      <td>17636</td>\n",
              "      <td>4452</td>\n",
              "      <td>7657</td>\n",
              "      <td>...</td>\n",
              "      <td>389</td>\n",
              "      <td>812</td>\n",
              "      <td>286</td>\n",
              "      <td>-970</td>\n",
              "      <td>1691</td>\n",
              "      <td>238</td>\n",
              "      <td>1258</td>\n",
              "      <td>131</td>\n",
              "      <td>1603</td>\n",
              "      <td>1434</td>\n",
              "    </tr>\n",
              "    <tr>\n",
              "      <th>2</th>\n",
              "      <td>28056</td>\n",
              "      <td>23436</td>\n",
              "      <td>16692</td>\n",
              "      <td>14950</td>\n",
              "      <td>-79</td>\n",
              "      <td>14835</td>\n",
              "      <td>15704</td>\n",
              "      <td>23324</td>\n",
              "      <td>775</td>\n",
              "      <td>1032</td>\n",
              "      <td>...</td>\n",
              "      <td>443</td>\n",
              "      <td>810</td>\n",
              "      <td>610</td>\n",
              "      <td>-2111</td>\n",
              "      <td>1029</td>\n",
              "      <td>1081</td>\n",
              "      <td>2098</td>\n",
              "      <td>91</td>\n",
              "      <td>3200</td>\n",
              "      <td>2022</td>\n",
              "    </tr>\n",
              "    <tr>\n",
              "      <th>3</th>\n",
              "      <td>23812</td>\n",
              "      <td>22240</td>\n",
              "      <td>15763</td>\n",
              "      <td>31449</td>\n",
              "      <td>-300</td>\n",
              "      <td>25421</td>\n",
              "      <td>15691</td>\n",
              "      <td>21733</td>\n",
              "      <td>157</td>\n",
              "      <td>13356</td>\n",
              "      <td>...</td>\n",
              "      <td>509</td>\n",
              "      <td>599</td>\n",
              "      <td>294</td>\n",
              "      <td>-1555</td>\n",
              "      <td>695</td>\n",
              "      <td>1223</td>\n",
              "      <td>254</td>\n",
              "      <td>49</td>\n",
              "      <td>1416</td>\n",
              "      <td>2615</td>\n",
              "    </tr>\n",
              "    <tr>\n",
              "      <th>4</th>\n",
              "      <td>3553</td>\n",
              "      <td>5472</td>\n",
              "      <td>18128</td>\n",
              "      <td>12606</td>\n",
              "      <td>-157</td>\n",
              "      <td>29543</td>\n",
              "      <td>3390</td>\n",
              "      <td>20332</td>\n",
              "      <td>2175</td>\n",
              "      <td>13769</td>\n",
              "      <td>...</td>\n",
              "      <td>35</td>\n",
              "      <td>282</td>\n",
              "      <td>375</td>\n",
              "      <td>-331</td>\n",
              "      <td>1627</td>\n",
              "      <td>761</td>\n",
              "      <td>127</td>\n",
              "      <td>0</td>\n",
              "      <td>1749</td>\n",
              "      <td>924</td>\n",
              "    </tr>\n",
              "    <tr>\n",
              "      <th>...</th>\n",
              "      <td>...</td>\n",
              "      <td>...</td>\n",
              "      <td>...</td>\n",
              "      <td>...</td>\n",
              "      <td>...</td>\n",
              "      <td>...</td>\n",
              "      <td>...</td>\n",
              "      <td>...</td>\n",
              "      <td>...</td>\n",
              "      <td>...</td>\n",
              "      <td>...</td>\n",
              "      <td>...</td>\n",
              "      <td>...</td>\n",
              "      <td>...</td>\n",
              "      <td>...</td>\n",
              "      <td>...</td>\n",
              "      <td>...</td>\n",
              "      <td>...</td>\n",
              "      <td>...</td>\n",
              "      <td>...</td>\n",
              "      <td>...</td>\n",
              "    </tr>\n",
              "    <tr>\n",
              "      <th>67</th>\n",
              "      <td>53204</td>\n",
              "      <td>33833</td>\n",
              "      <td>39323</td>\n",
              "      <td>3946</td>\n",
              "      <td>58</td>\n",
              "      <td>24407</td>\n",
              "      <td>29136</td>\n",
              "      <td>37795</td>\n",
              "      <td>410</td>\n",
              "      <td>3670</td>\n",
              "      <td>...</td>\n",
              "      <td>375</td>\n",
              "      <td>226</td>\n",
              "      <td>458</td>\n",
              "      <td>-373</td>\n",
              "      <td>1219</td>\n",
              "      <td>588</td>\n",
              "      <td>49</td>\n",
              "      <td>71</td>\n",
              "      <td>389</td>\n",
              "      <td>778</td>\n",
              "    </tr>\n",
              "    <tr>\n",
              "      <th>68</th>\n",
              "      <td>32</td>\n",
              "      <td>77</td>\n",
              "      <td>15689</td>\n",
              "      <td>25367</td>\n",
              "      <td>-398</td>\n",
              "      <td>31585</td>\n",
              "      <td>-52</td>\n",
              "      <td>20306</td>\n",
              "      <td>17505</td>\n",
              "      <td>21350</td>\n",
              "      <td>...</td>\n",
              "      <td>416</td>\n",
              "      <td>2063</td>\n",
              "      <td>531</td>\n",
              "      <td>-167</td>\n",
              "      <td>3280</td>\n",
              "      <td>1518</td>\n",
              "      <td>312</td>\n",
              "      <td>107</td>\n",
              "      <td>1484</td>\n",
              "      <td>1590</td>\n",
              "    </tr>\n",
              "    <tr>\n",
              "      <th>69</th>\n",
              "      <td>382</td>\n",
              "      <td>780</td>\n",
              "      <td>41570</td>\n",
              "      <td>71369</td>\n",
              "      <td>252</td>\n",
              "      <td>17789</td>\n",
              "      <td>252</td>\n",
              "      <td>49267</td>\n",
              "      <td>-154</td>\n",
              "      <td>10640</td>\n",
              "      <td>...</td>\n",
              "      <td>-13</td>\n",
              "      <td>1580</td>\n",
              "      <td>105</td>\n",
              "      <td>-284</td>\n",
              "      <td>1726</td>\n",
              "      <td>2334</td>\n",
              "      <td>284</td>\n",
              "      <td>70</td>\n",
              "      <td>2605</td>\n",
              "      <td>2453</td>\n",
              "    </tr>\n",
              "    <tr>\n",
              "      <th>70</th>\n",
              "      <td>7531</td>\n",
              "      <td>11055</td>\n",
              "      <td>39538</td>\n",
              "      <td>48374</td>\n",
              "      <td>-97</td>\n",
              "      <td>29775</td>\n",
              "      <td>5347</td>\n",
              "      <td>41778</td>\n",
              "      <td>17626</td>\n",
              "      <td>27467</td>\n",
              "      <td>...</td>\n",
              "      <td>257</td>\n",
              "      <td>1962</td>\n",
              "      <td>634</td>\n",
              "      <td>593</td>\n",
              "      <td>1663</td>\n",
              "      <td>1663</td>\n",
              "      <td>53</td>\n",
              "      <td>37</td>\n",
              "      <td>1427</td>\n",
              "      <td>1223</td>\n",
              "    </tr>\n",
              "    <tr>\n",
              "      <th>71</th>\n",
              "      <td>27457</td>\n",
              "      <td>23314</td>\n",
              "      <td>23462</td>\n",
              "      <td>17061</td>\n",
              "      <td>746</td>\n",
              "      <td>32358</td>\n",
              "      <td>15505</td>\n",
              "      <td>27087</td>\n",
              "      <td>389</td>\n",
              "      <td>22970</td>\n",
              "      <td>...</td>\n",
              "      <td>151</td>\n",
              "      <td>358</td>\n",
              "      <td>245</td>\n",
              "      <td>-351</td>\n",
              "      <td>1167</td>\n",
              "      <td>1145</td>\n",
              "      <td>494</td>\n",
              "      <td>1078</td>\n",
              "      <td>1239</td>\n",
              "      <td>1151</td>\n",
              "    </tr>\n",
              "  </tbody>\n",
              "</table>\n",
              "<p>72 rows × 1000 columns</p>\n",
              "</div>"
            ],
            "text/plain": [
              "      0      1      2      3    4      5      6      7      8      9    ...  \\\n",
              "0   17602  17962  15091  21011 -272  31086   8656  20764   -113  19748  ...   \n",
              "1    9868  16964  11038  25240 -194  29288  13285  17636   4452   7657  ...   \n",
              "2   28056  23436  16692  14950  -79  14835  15704  23324    775   1032  ...   \n",
              "3   23812  22240  15763  31449 -300  25421  15691  21733    157  13356  ...   \n",
              "4    3553   5472  18128  12606 -157  29543   3390  20332   2175  13769  ...   \n",
              "..    ...    ...    ...    ...  ...    ...    ...    ...    ...    ...  ...   \n",
              "67  53204  33833  39323   3946   58  24407  29136  37795    410   3670  ...   \n",
              "68     32     77  15689  25367 -398  31585    -52  20306  17505  21350  ...   \n",
              "69    382    780  41570  71369  252  17789    252  49267   -154  10640  ...   \n",
              "70   7531  11055  39538  48374  -97  29775   5347  41778  17626  27467  ...   \n",
              "71  27457  23314  23462  17061  746  32358  15505  27087    389  22970  ...   \n",
              "\n",
              "    990   991  992   993   994   995   996   997   998   999  \n",
              "0   443   695  509  -796   788  1624   536   730  1917  1183  \n",
              "1   389   812  286  -970  1691   238  1258   131  1603  1434  \n",
              "2   443   810  610 -2111  1029  1081  2098    91  3200  2022  \n",
              "3   509   599  294 -1555   695  1223   254    49  1416  2615  \n",
              "4    35   282  375  -331  1627   761   127     0  1749   924  \n",
              "..  ...   ...  ...   ...   ...   ...   ...   ...   ...   ...  \n",
              "67  375   226  458  -373  1219   588    49    71   389   778  \n",
              "68  416  2063  531  -167  3280  1518   312   107  1484  1590  \n",
              "69  -13  1580  105  -284  1726  2334   284    70  2605  2453  \n",
              "70  257  1962  634   593  1663  1663    53    37  1427  1223  \n",
              "71  151   358  245  -351  1167  1145   494  1078  1239  1151  \n",
              "\n",
              "[72 rows x 1000 columns]"
            ]
          },
          "metadata": {
            "tags": []
          },
          "execution_count": 6
        }
      ]
    },
    {
      "cell_type": "markdown",
      "metadata": {
        "id": "O8WfvVXYrvZA"
      },
      "source": [
        "## PCA (30 points)\n"
      ]
    },
    {
      "cell_type": "markdown",
      "metadata": {
        "id": "GNlO2lGATkiA"
      },
      "source": [
        "Implement PCA. Then use it to project the data to the latent space. Finally, reconstruct the data and report the reconstruction error for both training and test datasets. Note that you should implement the PCA, so using existing libraries is not allowed. you should use numpy to compute eigenvectors/eigenvalues of a matrix."
      ]
    },
    {
      "cell_type": "markdown",
      "metadata": {
        "id": "sDspbZgH7cbz"
      },
      "source": [
        "# ignore the below cell"
      ]
    },
    {
      "cell_type": "code",
      "metadata": {
        "id": "i1IU3rNP7cb1",
        "outputId": "7911cf51-89f9-4ab5-d8ae-ca67b0ebeecf"
      },
      "source": [
        "#DEAR TA IGNORE THIS PART\n",
        "from numpy import array\n",
        "from sklearn.decomposition import PCA\n",
        "# define a matrix\n",
        "# create the PCA instance\n",
        "pca = PCA(70)\n",
        "pca.fit(limited_data)\n",
        "# access values and vectors\n",
        "print(pca.components_,pca.components_.shape)\n",
        "#print(pca.explained_variance_)\n",
        "# transform data\n",
        "B = pca.transform(limited_data)\n",
        "print(pca.components_.shape)"
      ],
      "execution_count": null,
      "outputs": [
        {
          "output_type": "stream",
          "text": [
            "[[ 0.36037737  0.24087809  0.31803963 ...  0.00381401 -0.00813929\n",
            "  -0.00241479]\n",
            " [-0.09259818 -0.03869224  0.04017531 ... -0.00271548  0.00757091\n",
            "   0.00094336]\n",
            " [-0.14807134 -0.15034758  0.0554499  ... -0.00837059  0.00463161\n",
            "   0.00349193]\n",
            " ...\n",
            " [ 0.02119924 -0.0220441  -0.05047649 ...  0.01660953 -0.00692774\n",
            "  -0.01114603]\n",
            " [-0.04653456 -0.08386658  0.06831639 ...  0.00882071  0.04262554\n",
            "  -0.00429659]\n",
            " [ 0.0054705   0.0012896   0.02136791 ...  0.00131276  0.0069677\n",
            "  -0.03784855]] (70, 1000)\n",
            "(70, 1000)\n"
          ],
          "name": "stdout"
        }
      ]
    },
    {
      "cell_type": "code",
      "metadata": {
        "id": "VcaZiPwFPupP"
      },
      "source": [
        "def loss_function(a, b):\n",
        "  #####################################################################################\n",
        "  #                          COMPLETE THE FOLLOWING SECTION                           #\n",
        "  #####################################################################################\n",
        "  # Implement a function that given the original data and a\n",
        "  # reconstructed version, returns the reconstruction's mean squared error.\n",
        "  #####################################################################################\n",
        "    result =np.mean((a-b)**2)\n",
        "  ####################################################################################\n",
        "  #                                   THE END                                        #\n",
        "  #################################################################################### \n",
        "    return result"
      ],
      "execution_count": null,
      "outputs": []
    },
    {
      "cell_type": "markdown",
      "metadata": {
        "id": "4L3yuj-27cb6"
      },
      "source": [
        "# implementing PCA  using SVD"
      ]
    },
    {
      "cell_type": "code",
      "metadata": {
        "id": "96K6UsI37cb7",
        "outputId": "8b883852-a937-475d-fedf-9260a20c37b6"
      },
      "source": [
        "def PCA2(X, n_components):\n",
        "    X = X - np.mean(X, axis=0)\n",
        "    [u,s,v] = np.linalg.svd(X)\n",
        "    v = v.T\n",
        "    v = v[:,:n_components]\n",
        "    p=np.dot(X, v)\n",
        "    return v.T,p # v.t=pc_components , p=trasformed data\n",
        "\n",
        "PCA2(limited_data,72)[0].shape#pc_components.shape "
      ],
      "execution_count": null,
      "outputs": [
        {
          "output_type": "execute_result",
          "data": {
            "text/plain": [
              "(72, 1000)"
            ]
          },
          "metadata": {
            "tags": []
          },
          "execution_count": 10
        }
      ]
    },
    {
      "cell_type": "markdown",
      "metadata": {
        "id": "z0v6xgW97cb9"
      },
      "source": [
        "# implementing PCA without using SVD"
      ]
    },
    {
      "cell_type": "code",
      "metadata": {
        "id": "K45o0KZaT3XY",
        "outputId": "5bc9c95c-84f7-4271-c59f-6f6febd7b2d6"
      },
      "source": [
        "def PCA(X, n_components=72):\n",
        "    #####################################################################################\n",
        "    #                          COMPLETE THE FOLLOWING SECTION                           #\n",
        "    #####################################################################################\n",
        "    # X: a vector of shape (N, M)\n",
        "    # n_components: size of latent space (< M)\n",
        "    # returns a vector of shape (n_components, M) containing the first `n_components` PCs.\n",
        "    #####################################################################################\n",
        "    X = X - np.mean(X, axis=0)\n",
        "  \n",
        "    cov_matrix = np.cov(X.T)\n",
        "    eigenvalues, eigenvectors = np.linalg.eig(cov_matrix)\n",
        "    eigenvectors = eigenvectors.T\n",
        "    index = np.argsort(eigenvalues)[::-1]\n",
        "    eigenvectors=eigenvectors[index]\n",
        "    vector= eigenvectors[0:n_components]\n",
        "\n",
        "    #vector=np.dot(X,vector.T)\n",
        "    ####################################################################################\n",
        "    #                                   THE END                                        #\n",
        "    #################################################################################### \n",
        "    return vector\n",
        "PCA(limited_data).shape"
      ],
      "execution_count": null,
      "outputs": [
        {
          "output_type": "execute_result",
          "data": {
            "text/plain": [
              "(72, 1000)"
            ]
          },
          "metadata": {
            "tags": []
          },
          "execution_count": 11
        }
      ]
    },
    {
      "cell_type": "code",
      "metadata": {
        "id": "L06lCh8I-0F2",
        "outputId": "a7ab9687-d05c-486c-a5d9-2c23e0f694b6"
      },
      "source": [
        "pca = PCA(limited_data)\n",
        "pca.shape,PCA2(limited_data,72)[0].shape\n",
        "#pca = PCA(train, n_components=72)"
      ],
      "execution_count": null,
      "outputs": [
        {
          "output_type": "execute_result",
          "data": {
            "text/plain": [
              "((72, 1000), (72, 1000))"
            ]
          },
          "metadata": {
            "tags": []
          },
          "execution_count": 12
        }
      ]
    },
    {
      "cell_type": "code",
      "metadata": {
        "id": "u8KGa5L9tf_j",
        "outputId": "77ac098f-c22e-4d2e-cd3d-e3587fb6478c"
      },
      "source": [
        "def reconstruct_PCA(X):\n",
        "    #####################################################################################\n",
        "    #                          COMPLETE THE FOLLOWING SECTION                           #\n",
        "    #####################################################################################\n",
        "    # Compute PCs for the X.\n",
        "    # Project X to the space of computed PCs.\n",
        "    # Reconstruct X from projected data.\n",
        "    #####################################################################################\n",
        "    mu=np.mean(X,axis=0)#computing mu to adding it back to our X dataframe \n",
        "    mu_df=[]\n",
        "    for i in mu:\n",
        "        mu_df.append([i] *72)\n",
        "    mu_df=np.array(mu_df).T\n",
        "    \n",
        "  \n",
        "    principal_components = PCA(X,72)\n",
        "    X = X - np.mean(X, axis=0)\n",
        "    projected_data = np.dot(X,principal_components.T)\n",
        "\n",
        "    reconstructed_data = np.dot(projected_data,principal_components)+mu_df\n",
        "    ####################################################################################\n",
        "    #                                   THE END                                        #\n",
        "    ####################################################################################     \n",
        "    return reconstructed_data\n",
        "pca_rec = reconstruct_PCA(limited_data)\n",
        "loss_function(pca_rec,limited_data.values.tolist())\n"
      ],
      "execution_count": null,
      "outputs": [
        {
          "output_type": "execute_result",
          "data": {
            "text/plain": [
              "(1.047636696017379e-21+0j)"
            ]
          },
          "metadata": {
            "tags": []
          },
          "execution_count": 13
        }
      ]
    },
    {
      "cell_type": "code",
      "metadata": {
        "id": "wy2DZFtf7ccF",
        "outputId": "23fd2ada-1942-4f9c-9a12-ae463247b1e1"
      },
      "source": [
        "def reconstruct_PCA(X):\n",
        "#####################################################################################\n",
        "    mu=np.mean(X,axis=0)\n",
        "    mu_df=[]\n",
        "    for i in mu:\n",
        "        mu_df.append([i] *72)\n",
        "    mu_df=np.array(mu_df).T\n",
        "    \n",
        "    principal_components = PCA2(X,72)[0]#using svd for pca\n",
        "    X = X - np.mean(X, axis=0)\n",
        "    projected_data = PCA2(X,72)[1]\n",
        "    \n",
        "    reconstructed_data = np.dot(projected_data,principal_components)+ mu_df\n",
        "    ####################################################################################\n",
        "    #                                   THE END                                        #\n",
        "    ####################################################################################     \n",
        "    return reconstructed_data\n",
        "pca_rec = reconstruct_PCA(limited_data)\n",
        "loss_function(pca_rec,limited_data.values.tolist())\n"
      ],
      "execution_count": null,
      "outputs": [
        {
          "output_type": "execute_result",
          "data": {
            "text/plain": [
              "2.1816804201079634e-21"
            ]
          },
          "metadata": {
            "tags": []
          },
          "execution_count": 14
        }
      ]
    },
    {
      "cell_type": "code",
      "metadata": {
        "id": "uxyrH2Wq_CQv",
        "outputId": "9e2554c0-b339-4ea7-cf5b-40883fb812f0"
      },
      "source": [
        "#pca_rec = reconstruct_PCA(limited_data)\n",
        "pca_rec = reconstruct_PCA(limited_data)\n",
        "pca_rec.shape"
      ],
      "execution_count": null,
      "outputs": [
        {
          "output_type": "execute_result",
          "data": {
            "text/plain": [
              "(72, 1000)"
            ]
          },
          "metadata": {
            "tags": []
          },
          "execution_count": 15
        }
      ]
    },
    {
      "cell_type": "code",
      "metadata": {
        "id": "W9-zt2Gp9y52",
        "outputId": "515ae39b-51d8-4207-8209-c02310b314d9"
      },
      "source": [
        "## Run This cell to find how your functions working!\n",
        "loss_function(pca_rec , limited_data.values.tolist())\n",
        "\n"
      ],
      "execution_count": null,
      "outputs": [
        {
          "output_type": "execute_result",
          "data": {
            "text/plain": [
              "2.1816804201079634e-21"
            ]
          },
          "metadata": {
            "tags": []
          },
          "execution_count": 16
        }
      ]
    },
    {
      "cell_type": "markdown",
      "metadata": {
        "id": "RmGUESkSthcB"
      },
      "source": [
        "## K-Means (20 points)\n",
        "\n"
      ]
    },
    {
      "cell_type": "markdown",
      "metadata": {
        "id": "WquMFXsuuYsi"
      },
      "source": [
        "read the below cell codes. this is using sklearn pca implementation. we use this function to use in our kmeans clustering."
      ]
    },
    {
      "cell_type": "code",
      "metadata": {
        "id": "weP1UN8ATaJi",
        "outputId": "ae7336c8-f071-446a-b217-78b45e855fc1"
      },
      "source": [
        "from sklearn.preprocessing import StandardScaler\n",
        "from sklearn.decomposition import PCA\n",
        "x_norm = StandardScaler().fit_transform(limited_data)\n",
        "pca = PCA(n_components=2)\n",
        "principalComponents = pca.fit_transform(x_norm)\n",
        "principalDf = pd.DataFrame(data = principalComponents\n",
        "             , columns = ['PC1', 'PC2'])\n",
        "principalDf = principalDf.set_index(labels.index)\n",
        "finalDf = pd.concat([principalDf, labels['cancer']], axis = 1)\n",
        "finalDf\n"
      ],
      "execution_count": null,
      "outputs": [
        {
          "output_type": "execute_result",
          "data": {
            "text/html": [
              "<div>\n",
              "<style scoped>\n",
              "    .dataframe tbody tr th:only-of-type {\n",
              "        vertical-align: middle;\n",
              "    }\n",
              "\n",
              "    .dataframe tbody tr th {\n",
              "        vertical-align: top;\n",
              "    }\n",
              "\n",
              "    .dataframe thead th {\n",
              "        text-align: right;\n",
              "    }\n",
              "</style>\n",
              "<table border=\"1\" class=\"dataframe\">\n",
              "  <thead>\n",
              "    <tr style=\"text-align: right;\">\n",
              "      <th></th>\n",
              "      <th>PC1</th>\n",
              "      <th>PC2</th>\n",
              "      <th>cancer</th>\n",
              "    </tr>\n",
              "  </thead>\n",
              "  <tbody>\n",
              "    <tr>\n",
              "      <th>0</th>\n",
              "      <td>4.341202</td>\n",
              "      <td>-4.770872</td>\n",
              "      <td>ALL</td>\n",
              "    </tr>\n",
              "    <tr>\n",
              "      <th>1</th>\n",
              "      <td>14.195648</td>\n",
              "      <td>1.693619</td>\n",
              "      <td>ALL</td>\n",
              "    </tr>\n",
              "    <tr>\n",
              "      <th>2</th>\n",
              "      <td>14.183927</td>\n",
              "      <td>-1.751284</td>\n",
              "      <td>ALL</td>\n",
              "    </tr>\n",
              "    <tr>\n",
              "      <th>3</th>\n",
              "      <td>1.756293</td>\n",
              "      <td>-3.357064</td>\n",
              "      <td>ALL</td>\n",
              "    </tr>\n",
              "    <tr>\n",
              "      <th>4</th>\n",
              "      <td>11.519685</td>\n",
              "      <td>-9.365319</td>\n",
              "      <td>ALL</td>\n",
              "    </tr>\n",
              "    <tr>\n",
              "      <th>...</th>\n",
              "      <td>...</td>\n",
              "      <td>...</td>\n",
              "      <td>...</td>\n",
              "    </tr>\n",
              "    <tr>\n",
              "      <th>67</th>\n",
              "      <td>-9.111561</td>\n",
              "      <td>-8.859139</td>\n",
              "      <td>ALL</td>\n",
              "    </tr>\n",
              "    <tr>\n",
              "      <th>68</th>\n",
              "      <td>9.836478</td>\n",
              "      <td>22.720641</td>\n",
              "      <td>ALL</td>\n",
              "    </tr>\n",
              "    <tr>\n",
              "      <th>69</th>\n",
              "      <td>-1.017386</td>\n",
              "      <td>19.754236</td>\n",
              "      <td>ALL</td>\n",
              "    </tr>\n",
              "    <tr>\n",
              "      <th>70</th>\n",
              "      <td>-4.869208</td>\n",
              "      <td>17.797065</td>\n",
              "      <td>ALL</td>\n",
              "    </tr>\n",
              "    <tr>\n",
              "      <th>71</th>\n",
              "      <td>1.404915</td>\n",
              "      <td>-5.935698</td>\n",
              "      <td>ALL</td>\n",
              "    </tr>\n",
              "  </tbody>\n",
              "</table>\n",
              "<p>72 rows × 3 columns</p>\n",
              "</div>"
            ],
            "text/plain": [
              "          PC1        PC2 cancer\n",
              "0    4.341202  -4.770872    ALL\n",
              "1   14.195648   1.693619    ALL\n",
              "2   14.183927  -1.751284    ALL\n",
              "3    1.756293  -3.357064    ALL\n",
              "4   11.519685  -9.365319    ALL\n",
              "..        ...        ...    ...\n",
              "67  -9.111561  -8.859139    ALL\n",
              "68   9.836478  22.720641    ALL\n",
              "69  -1.017386  19.754236    ALL\n",
              "70  -4.869208  17.797065    ALL\n",
              "71   1.404915  -5.935698    ALL\n",
              "\n",
              "[72 rows x 3 columns]"
            ]
          },
          "metadata": {
            "tags": []
          },
          "execution_count": 17
        }
      ]
    },
    {
      "cell_type": "markdown",
      "metadata": {
        "id": "PdOAi2mSkZKR"
      },
      "source": [
        "here we try to initialize centroids. Note that we already knows we have two cluster, So from our prior knowledge we define number of clusters equal to two."
      ]
    },
    {
      "cell_type": "code",
      "metadata": {
        "id": "f2ZM3kLwvX_n",
        "outputId": "95b6d690-a930-4dc8-e001-291f87d9dd6e"
      },
      "source": [
        "np.random.seed(1000)\n",
        "# Number of clusters\n",
        "k = 2\n",
        "X = np.array(list(zip(finalDf['PC1'], finalDf['PC2'])))\n",
        "# X coordinates of random centroids\n",
        "C_x = np.random.randint(0, np.max(X)-20, size=k)\n",
        "# Y coordinates of random centroids\n",
        "C_y = np.random.randint(0, np.max(X)-20, size=k)\n",
        "C = np.array(list(zip(C_x, C_y)), dtype=np.float32)\n",
        "print(C)\n",
        "C_x,C[:,0]"
      ],
      "execution_count": null,
      "outputs": [
        {
          "output_type": "stream",
          "text": [
            "[[23.  0.]\n",
            " [ 7. 30.]]\n"
          ],
          "name": "stdout"
        },
        {
          "output_type": "execute_result",
          "data": {
            "text/plain": [
              "(array([23,  7]), array([23.,  7.], dtype=float32))"
            ]
          },
          "metadata": {
            "tags": []
          },
          "execution_count": 18
        }
      ]
    },
    {
      "cell_type": "markdown",
      "metadata": {
        "id": "7hyU49kHkqhD"
      },
      "source": [
        "Now you can see the unlabeled data and our initialization data by running following cell"
      ]
    },
    {
      "cell_type": "code",
      "metadata": {
        "id": "44In_GGZvuHh",
        "outputId": "a2836535-9800-48b5-cf27-604fae6aa591"
      },
      "source": [
        "# Plotting along with the Centroids\n",
        "plt.scatter(finalDf['PC1'], finalDf['PC2'], c='#050505', s=7)\n",
        "plt.scatter(C_x, C_y, marker='*', s=200, c='g')"
      ],
      "execution_count": null,
      "outputs": [
        {
          "output_type": "execute_result",
          "data": {
            "text/plain": [
              "<matplotlib.collections.PathCollection at 0xa01b39cf48>"
            ]
          },
          "metadata": {
            "tags": []
          },
          "execution_count": 19
        },
        {
          "output_type": "display_data",
          "data": {
            "image/png": "[encoded data removed]",
            "text/plain": [
              "<Figure size 842.4x595.44 with 1 Axes>"
            ]
          },
          "metadata": {
            "tags": []
          }
        }
      ]
    },
    {
      "cell_type": "markdown",
      "metadata": {
        "id": "ugKD1qEDkzLZ"
      },
      "source": [
        "It's your turn. Implement K-Means function which return a np.array with size equal to your data. this array contain each point label that you assigned using kmeans clustering."
      ]
    },
    {
      "cell_type": "code",
      "metadata": {
        "id": "KCu4Q92Uv6mQ"
      },
      "source": [
        "def Kmeans(X, Centroids):\n",
        "    clusters = np.zeros(len(X))\n",
        "    # To store the value of centroids when it updates\n",
        "    C = Centroids\n",
        "    C_old = np.zeros(C.shape)\n",
        "    # Cluster Lables(0, 1)\n",
        "    clusters = np.zeros(len(X))\n",
        "    # Error func. - Distance between new centroids and old centroids\n",
        "    error = np.linalg.norm(C - C_old)\n",
        "    ####################################################################################\n",
        "    #                          COMPLETE THE FOLLOWING SECTION                          #\n",
        "    ####################################################################################\n",
        "    # Implement K-Means Clustering\n",
        "    # Assigning each value to its closest cluster\n",
        "    # Storing the old centroid values\n",
        "    # Finding the new centroids by taking the average value\n",
        "    # clusters variable should contain (0,1) labels. 0 for first cluster and 1 for the second. \n",
        "    ####################################################################################\n",
        "    # Loop will run till the error becomes zero\n",
        "    # Do Not Forget to update error condition.\n",
        "    \n",
        "    def euclidean_distance(x1,x2):\n",
        "        d=np.sqrt(np.sum((x1-x2)**2))\n",
        "        return d \n",
        "\n",
        "    while error != 0:\n",
        "        \n",
        "        first_cluster,second_cluster=[],[]\n",
        "        for idx,x in enumerate(X): #apppointing each data to its nearest cluster\n",
        "            if euclidean_distance(x,C[1])<euclidean_distance(x,C[0]):\n",
        "                clusters[idx]=1\n",
        "                second_cluster.append(X[idx])\n",
        "            else:\n",
        "                clusters[idx]=0\n",
        "                first_cluster.append(X[idx])\n",
        "    \n",
        "        f=np.mean(first_cluster,axis=0).tolist()\n",
        "        s=np.mean(second_cluster,axis=0).tolist()\n",
        "        centroid=[]\n",
        "        centroid.append(f)\n",
        "        centroid.append(s)\n",
        "        C_old=C\n",
        "        C =np.array(centroid)\n",
        "        error = np.linalg.norm(C - C_old)\n",
        "\n",
        "\n",
        "      ####################################################################################\n",
        "      #                                   THE END                                        #\n",
        "      ####################################################################################\n",
        "\n",
        "    return clusters,C #predictions "
      ],
      "execution_count": null,
      "outputs": []
    },
    {
      "cell_type": "code",
      "metadata": {
        "id": "bVJ1Zuf27ccZ",
        "outputId": "32793ae7-ce30-4004-da01-895ae26ec44c"
      },
      "source": [
        "clusters,C = Kmeans(X, C)\n",
        "X.shape"
      ],
      "execution_count": null,
      "outputs": [
        {
          "output_type": "execute_result",
          "data": {
            "text/plain": [
              "(72, 2)"
            ]
          },
          "metadata": {
            "tags": []
          },
          "execution_count": 21
        }
      ]
    },
    {
      "cell_type": "code",
      "metadata": {
        "id": "_ZY4LglCj2Oz",
        "outputId": "ee144b87-e74f-464d-9a29-a544cde56fbf"
      },
      "source": [
        "true =pd.read_csv(\"true.csv\")\n",
        "true.drop(['patient'], axis=1,inplace=True)\n",
        "from sklearn.metrics import accuracy_score\n",
        "print(accuracy_score(true,clusters))"
      ],
      "execution_count": null,
      "outputs": [
        {
          "output_type": "stream",
          "text": [
            "0.7777777777777778\n"
          ],
          "name": "stdout"
        }
      ]
    },
    {
      "cell_type": "markdown",
      "metadata": {
        "id": "liuvdw6Ml7wZ"
      },
      "source": [
        "Now just run cell below to plot your result. "
      ]
    },
    {
      "cell_type": "code",
      "metadata": {
        "id": "GOam4hp1wbn4",
        "outputId": "c357adce-d92d-46eb-ae6c-3f79ffcc3a4d"
      },
      "source": [
        "colors = ['r', 'g', 'b', 'y', 'c', 'm']\n",
        "fig, ax = plt.subplots()\n",
        "for i in range(k):\n",
        "        points = np.array([X[j] for j in range(len(X)) if clusters[j] == i])\n",
        "        ax.scatter(points[:, 0], points[:, 1], s=7, c=colors[i])\n",
        "ax.scatter(C[: ,0], C[:,1], marker='*', s=200, c='#050505')"
      ],
      "execution_count": null,
      "outputs": [
        {
          "output_type": "execute_result",
          "data": {
            "text/plain": [
              "<matplotlib.collections.PathCollection at 0xa01b3b1808>"
            ]
          },
          "metadata": {
            "tags": []
          },
          "execution_count": 23
        },
        {
          "output_type": "display_data",
          "data": {
            "image/png": "[encoded data removed]",
            "text/plain": [
              "<Figure size 842.4x595.44 with 1 Axes>"
            ]
          },
          "metadata": {
            "tags": []
          }
        }
      ]
    },
    {
      "cell_type": "markdown",
      "metadata": {
        "id": "fZPQjdLdMLmo"
      },
      "source": [
        "This part shows real labels of the samples. just run this cell and answer the next question. "
      ]
    },
    {
      "cell_type": "code",
      "metadata": {
        "id": "Qd6GZwJnMF8n",
        "outputId": "9450cf3c-6f0b-4cd8-ff75-805f3f0a7e80"
      },
      "source": [
        "fig = plt.figure(figsize=(10,10))\n",
        "ax = fig.add_subplot(1,1,1) \n",
        "ax.set_xlabel('PC1', fontsize=15)\n",
        "ax.set_ylabel('PC2', fontsize=15)\n",
        "ax.set_title('2 component PCA', fontsize=20)\n",
        "targets = ['ALL','AML']\n",
        "colors = ['r', 'g']\n",
        "for target, color in zip(targets,colors):\n",
        "    indicesToKeep = finalDf['cancer'] == target\n",
        "    ax.scatter(finalDf.loc[indicesToKeep, 'PC1'],\n",
        "               finalDf.loc[indicesToKeep, 'PC2'],\n",
        "               c=color,\n",
        "               s=50)\n",
        "ax.legend(targets)\n",
        "ax.grid()\n",
        "ax.set_xlim([-20, 25])\n",
        "ax.set_ylim([-20, 25])"
      ],
      "execution_count": null,
      "outputs": [
        {
          "output_type": "execute_result",
          "data": {
            "text/plain": [
              "(-20, 25)"
            ]
          },
          "metadata": {
            "tags": []
          },
          "execution_count": 24
        },
        {
          "output_type": "display_data",
          "data": {
            "image/png": "[encoded data removed]",
            "text/plain": [
              "<Figure size 720x720 with 1 Axes>"
            ]
          },
          "metadata": {
            "tags": []
          }
        }
      ]
    },
    {
      "cell_type": "markdown",
      "metadata": {
        "id": "NXv0R4dDNwoa"
      },
      "source": [
        "Compare your results with the figure above and tell us what will change if we change the random seed (try it with two or three different seeds) and what is the solution?"
      ]
    },
    {
      "cell_type": "markdown",
      "metadata": {
        "id": "CmhXIZAFOgKZ"
      },
      "source": [
        "if we change the random seed the initiall centroids will change(initial cluster centers are chosen randomly), and since initiallization matters(because k-means only finds the \"LOCAL OPTIMUM\" and updating continues untill  each point is appointed to its nearest clusters) in the final clustering we'll have different clusters with different seeds.\n",
        "the solution is to use meyhods like k-means++ or trying k-means with different random seed and choose the one with the best accuracy_score...\n"
      ]
    },
    {
      "cell_type": "markdown",
      "metadata": {
        "id": "YQN_77qvfrnE"
      },
      "source": [
        "## GMM (30 points)\n",
        "\n",
        "The EM algorithm for GMM can be simplified in the following steps:\n",
        "\n",
        "Assuming K is the number of clusters, and N is the number of data points\n",
        "\n",
        "\n",
        "$z_j^i$ is 1 if $x^i$ is generated from mixture j\n",
        "\n",
        "Initialize $\\mu_k$, $\\Sigma_k$ and $\\pi_k$ k=1,...K\n",
        "\n",
        "\n",
        "$\\theta=[\\pi,\\mu,\\Sigma]$\n",
        "## E step:\n",
        "$\\gamma_j^i=P(z_j^i=1|x^i, \\theta^{old})=\\frac{\\pi_j^{old}\\mathcal{N}(x^i|\\mu_j^{old},\\Sigma_j^{old})}{\\sum_{k=1}^K\\pi_k^{old}\\mathcal{N}(x^i|\\mu_k^{old},\\Sigma_k^{old})}$\n",
        "\n",
        "## M step:\n",
        "$\\mu_j^{new}=\\frac{\\sum_{i=1}^N \\gamma_j^i x^i}{\\sum_{i=1}^N \\gamma_j^i}$\n",
        "\n",
        "\n",
        "$\\Sigma_j^{new} = \\frac{1}{\\sum_{i=1}^N \\gamma_j^i} \\sum_{i=1}^N \\gamma_j^i (x^i-\\mu_j^{new}) (x^i-\\mu_j^{new})^T$\n",
        "\n",
        "\n",
        "$\\pi_j^{new} = \\frac{\\sum_{i=1}^N \\gamma_j^i}{N}$\n",
        "\n",
        "Repeat E and M steps until convergence.\n"
      ]
    },
    {
      "cell_type": "code",
      "metadata": {
        "id": "YdRTYxnefrnG"
      },
      "source": [
        "from scipy.stats import multivariate_normal\n",
        "class GMM(object):\n",
        "    def __init__(self, x, k, iterations):\n",
        "        self.x = x\n",
        "        self.n = x.shape[0] # data points\n",
        "        self.f = x.shape[1] # features\n",
        "        self.k = k  # number of clusters\n",
        "        self.iterations = iterations\n",
        "\n",
        "        self.predictions = None\n",
        "        \n",
        "        # TODO: initialte parameters \n",
        "        self.pi =  np.full(shape=self.k, fill_value=1/self.k) # of size (k)\n",
        "        random_row = np.random.randint(low=0, high=72, size=k)#generate k random number for rows of X\n",
        "        self.mu = np.array([self.x[random_row[i]] for i in range(k)]) # of size (k, f)\n",
        "        h=np.diag(np.ones(len(self.x.T)))\n",
        "        self.sigma = np.array([ np.cov(self.x.T) for i in range(k) ])# of size (k, f, f) \n",
        "\n",
        "        self.reg_cov = 2 * np.identity(self.f)\n",
        "        #self.sigma = np.array([np.eye(self.f) + self.reg_cov] * self.k).reshape(self.k,self.f,self.f)\n",
        "\n",
        "    def calc_gamma(self):\n",
        "        # TODO: calculate gamma matrix based on parameters and x\n",
        "        # returns a matrix of shape (n, k) where n is the number of data points\n",
        "        gamma_=np.zeros((self.n,self.k))\n",
        "        for i in range(self.n):#i=row\n",
        "            for j in range(self.k):\n",
        "                distribu=multivariate_normal(mean=self.mu[j],cov=self.sigma[j])\n",
        "                gamma_[i,j]=distribu.pdf(self.x[i])*self.pi[j]\n",
        "        sum_of_rows=np.sum(gamma_,axis=1).reshape(self.n,1)\n",
        "        gamma_=gamma_/sum_of_rows\n",
        "        #print(\"*\")\n",
        "        \n",
        "        return gamma_\n",
        "        #pass\n",
        "        \n",
        "    def update_mu(self, gamma):\n",
        "        # TODO: update self.mu based on x and gamma matrix\n",
        "        for i in range(self.k):\n",
        "            w = gamma[:, [i]]#gamma[:, [0]]=cluster one weights ,gamma[:, [1]]=cluster two weights : gamma_columns\n",
        "            total_weight = w.sum()\n",
        "            self.mu[i] = (self.x * w).sum(axis=0) / total_weight\n",
        "        #pass\n",
        "    \n",
        "    def update_sigma(self, gamma):\n",
        "        # TODO: update self.sigma based on x, mu and gamma matrix\n",
        "        for i in range(self.k):\n",
        "            w = gamma[:, [i]]\n",
        "            total_w = w.sum()\n",
        "            self.sigma[i] = np.cov(self.x.T, \n",
        "                aweights=(w/total_w).flatten(), \n",
        "                bias=True)\n",
        "        \n",
        "        #pass\n",
        "        \n",
        "    def update_pi(self, gamma):\n",
        "        # TODO: update self.pi based on gamma matrix\n",
        "        self.pi=np.mean(gamma,axis=0)\n",
        "        #pass\n",
        "        \n",
        "    def fit(self):\n",
        "        for i in range(self.iterations):\n",
        "            gamma = self.calc_gamma()\n",
        "            #print(\"**\")\n",
        "            self.update_mu(gamma)\n",
        "            self.update_sigma(gamma)\n",
        "            self.update_pi(gamma)\n",
        "        \n",
        "        # TODO: predict the mixture for each data\n",
        "        return np.argmax(gamma, axis=1)\n",
        "        "
      ],
      "execution_count": null,
      "outputs": []
    },
    {
      "cell_type": "code",
      "metadata": {
        "id": "W1h-2inV7ccp",
        "outputId": "eba4efb1-ac8a-4337-f6ab-45435ca13fda"
      },
      "source": [
        "np.random.seed(7)\n",
        "gmm = GMM(X,2,22)\n",
        "gmm_clusters =gmm.fit()\n",
        "print(\"accuacy is : \",accuracy_score(true,gmm_clusters))\n",
        "gmm_clusters"
      ],
      "execution_count": null,
      "outputs": [
        {
          "output_type": "stream",
          "text": [
            "accuacy is :  0.6944444444444444\n"
          ],
          "name": "stdout"
        },
        {
          "output_type": "execute_result",
          "data": {
            "text/plain": [
              "array([0, 1, 1, 0, 1, 0, 0, 0, 1, 0, 0, 0, 1, 1, 1, 0, 1, 0, 0, 1, 0, 0,\n",
              "       0, 0, 0, 0, 0, 1, 0, 1, 1, 1, 1, 0, 1, 1, 1, 1, 0, 0, 0, 0, 1, 0,\n",
              "       0, 0, 0, 0, 0, 0, 0, 1, 1, 0, 0, 0, 0, 1, 1, 1, 1, 1, 0, 1, 0, 1,\n",
              "       0, 0, 1, 1, 1, 0], dtype=int64)"
            ]
          },
          "metadata": {
            "tags": []
          },
          "execution_count": 306
        }
      ]
    },
    {
      "cell_type": "code",
      "metadata": {
        "id": "qvcfZa_dfrnL",
        "outputId": "b49fb3ff-0f14-4268-8d74-43ecdce88ae9"
      },
      "source": [
        "\n",
        "l1,l2=[],[]\n",
        "for i in range(1,51,5):\n",
        "    gmm = GMM(X,2,i)\n",
        "    gmm_clusters =gmm.fit()\n",
        "    print(\"accuacy is : \",accuracy_score(true,gmm_clusters))\n",
        "    l1.append(i)\n",
        "    l2.append(accuracy_score(true,gmm_clusters))\n",
        "\n",
        "plt.plot(l1,l2)\n",
        "plt.show()"
      ],
      "execution_count": null,
      "outputs": [
        {
          "output_type": "stream",
          "text": [
            "accuacy is :  0.5416666666666666\n",
            "accuacy is :  0.7083333333333334\n",
            "accuacy is :  0.6111111111111112\n",
            "accuacy is :  0.7083333333333334\n",
            "accuacy is :  0.7083333333333334\n",
            "accuacy is :  0.6527777777777778\n",
            "accuacy is :  0.6527777777777778\n",
            "accuacy is :  0.6527777777777778\n",
            "accuacy is :  0.6527777777777778\n",
            "accuacy is :  0.6527777777777778\n"
          ],
          "name": "stdout"
        },
        {
          "output_type": "display_data",
          "data": {
            "image/png": "[encoded data removed]",
            "text/plain": [
              "<Figure size 842.4x595.44 with 1 Axes>"
            ]
          },
          "metadata": {
            "tags": []
          }
        }
      ]
    },
    {
      "cell_type": "code",
      "metadata": {
        "id": "iu-8ZKQLfrnQ",
        "outputId": "b1bba494-300f-4ef3-acac-23761ba815a4"
      },
      "source": [
        "fig, ax = plt.subplots()\n",
        "for i in range(k):\n",
        "        points = np.array([X[j] for j in range(len(X)) if gmm_clusters[j] == i])\n",
        "        ax.scatter(points[:, 0], points[\n",
        "            :, 1], s=7, c=colors[i])\n",
        "ax.scatter(C[:, 0], C[:, 1], marker='*', s=200, c='#050505')"
      ],
      "execution_count": null,
      "outputs": [
        {
          "output_type": "execute_result",
          "data": {
            "text/plain": [
              "<matplotlib.collections.PathCollection at 0xa026483f08>"
            ]
          },
          "metadata": {
            "tags": []
          },
          "execution_count": 307
        },
        {
          "output_type": "display_data",
          "data": {
            "image/png": "[encoded data removed]",
            "text/plain": [
              "<Figure size 842.4x595.44 with 1 Axes>"
            ]
          },
          "metadata": {
            "tags": []
          }
        }
      ]
    },
    {
      "cell_type": "markdown",
      "metadata": {
        "id": "i8m21EhVfrnW"
      },
      "source": [
        "## t-SNE (10 points)"
      ]
    },
    {
      "cell_type": "markdown",
      "metadata": {
        "id": "Jb8CAX8cfrnX"
      },
      "source": [
        "In this part we are using a generated dataset to test the effect of t-SNE hyperparameters.\n",
        "The data points are on two paralllel lines with a small additive noise."
      ]
    },
    {
      "cell_type": "code",
      "metadata": {
        "id": "6dBH6AmSfrnY",
        "outputId": "d6d5a3d2-9fc0-4a06-f3b7-c45252b45866"
      },
      "source": [
        "# load the dataset\n",
        "\n",
        "X1 = np.load('X.npy')\n",
        "y1 = np.load('y.npy')\n",
        "print(X1.shape)\n",
        "print(y1.shape)"
      ],
      "execution_count": null,
      "outputs": [
        {
          "output_type": "stream",
          "text": [
            "(200, 20)\n",
            "(200,)\n"
          ],
          "name": "stdout"
        }
      ]
    },
    {
      "cell_type": "code",
      "metadata": {
        "id": "oOzBZkaXfrnd",
        "scrolled": true,
        "outputId": "bd580599-a03b-4b58-aca2-0d6c71c60cf0"
      },
      "source": [
        "# plot data in 2 dimensions using PCA\n",
        "pca = PCA(n_components=2)\n",
        "x_pca = pca.fit_transform(X1)\n",
        "sns.scatterplot(x_pca[:,0], x_pca[:,1], hue=y1, legend='full', palette=palette)"
      ],
      "execution_count": null,
      "outputs": [
        {
          "output_type": "execute_result",
          "data": {
            "text/plain": [
              "<matplotlib.axes._subplots.AxesSubplot at 0xa01ccd8d48>"
            ]
          },
          "metadata": {
            "tags": []
          },
          "execution_count": 206
        },
        {
          "output_type": "display_data",
          "data": {
            "image/png": "[encoded data removed]",
            "text/plain": [
              "<Figure size 842.4x595.44 with 1 Axes>"
            ]
          },
          "metadata": {
            "tags": []
          }
        }
      ]
    },
    {
      "cell_type": "markdown",
      "metadata": {
        "id": "oNF9FTFYfrni"
      },
      "source": [
        "Find the best hyperparameters such that the output of t-SNE is similar to the output of PCA. Please make sure that your results are stable. Try running t-SNE a few times until you get the same results.\n",
        "\n",
        "You can use [this link](https://distill.pub/2016/misread-tsne/) for help!"
      ]
    },
    {
      "cell_type": "markdown",
      "metadata": {
        "id": "W1zLA-db7cc2"
      },
      "source": [
        "# without using random_state"
      ]
    },
    {
      "cell_type": "code",
      "metadata": {
        "id": "iSSD8LuK7cc3",
        "outputId": "4c33a6de-3c96-49ad-c376-538fa9fb3c33"
      },
      "source": [
        "tsne = TSNE(learning_rate=23,perplexity=160,n_iter=1000,random_state=None)  # TODO: set hyperparameters\n",
        "\n",
        "X_embedded = tsne.fit_transform(X1)#per=38.1,39.6\n",
        "\n",
        "sns.scatterplot(X_embedded[:,0], X_embedded[:,1], hue=y1, legend='full', palette=palette)"
      ],
      "execution_count": null,
      "outputs": [
        {
          "output_type": "execute_result",
          "data": {
            "text/plain": [
              "<matplotlib.axes._subplots.AxesSubplot at 0xa019886508>"
            ]
          },
          "metadata": {
            "tags": []
          },
          "execution_count": 381
        },
        {
          "output_type": "display_data",
          "data": {
            "image/png": "[encoded data removed]",
            "text/plain": [
              "<Figure size 842.4x595.44 with 1 Axes>"
            ]
          },
          "metadata": {
            "tags": []
          }
        }
      ]
    },
    {
      "cell_type": "markdown",
      "metadata": {
        "id": "94MUCuQw7cc4"
      },
      "source": [
        "# using random_state"
      ]
    },
    {
      "cell_type": "code",
      "metadata": {
        "id": "mMjSOBli7cc5",
        "outputId": "89193100-8e89-4997-cf68-142b3057ada8"
      },
      "source": [
        "tsne = TSNE(learning_rate=50,perplexity=39.6,n_iter=1000,random_state=0)  # TODO: set hyperparameters\n",
        "\n",
        "X_embedded = tsne.fit_transform(X1)#per=38.1,39.6\n",
        "\n",
        "sns.scatterplot(X_embedded[:,0], X_embedded[:,1], hue=y1, legend='full', palette=palette)"
      ],
      "execution_count": null,
      "outputs": [
        {
          "output_type": "execute_result",
          "data": {
            "text/plain": [
              "<matplotlib.axes._subplots.AxesSubplot at 0xa02dde7f88>"
            ]
          },
          "metadata": {
            "tags": []
          },
          "execution_count": 368
        },
        {
          "output_type": "display_data",
          "data": {
            "image/png": "[encoded data removed]",
            "text/plain": [
              "<Figure size 842.4x595.44 with 1 Axes>"
            ]
          },
          "metadata": {
            "tags": []
          }
        }
      ]
    },
    {
      "cell_type": "code",
      "metadata": {
        "id": "fuvAEpNv7cc7",
        "outputId": "b97ec54a-f756-4047-c627-3076f6fb8b63"
      },
      "source": [
        "tsne = TSNE(learning_rate=50,perplexity=38.1,n_iter=1000,random_state=0)  # TODO: set hyperparameters\n",
        "\n",
        "X_embedded = tsne.fit_transform(X1)#per=38.1,39.6\n",
        "\n",
        "sns.scatterplot(X_embedded[:,0], X_embedded[:,1], hue=y1, legend='full', palette=palette)"
      ],
      "execution_count": null,
      "outputs": [
        {
          "output_type": "execute_result",
          "data": {
            "text/plain": [
              "<matplotlib.axes._subplots.AxesSubplot at 0xa024999148>"
            ]
          },
          "metadata": {
            "tags": []
          },
          "execution_count": 246
        },
        {
          "output_type": "display_data",
          "data": {
            "image/png": "[encoded data removed]",
            "text/plain": [
              "<Figure size 842.4x595.44 with 1 Axes>"
            ]
          },
          "metadata": {
            "tags": []
          }
        }
      ]
    },
    {
      "cell_type": "code",
      "metadata": {
        "id": "3j4-Xm8W7cc9",
        "outputId": "f28d2fac-abce-469e-e91d-de388a2a545a"
      },
      "source": [
        "tsne = TSNE(learning_rate=50,perplexity=16,n_iter=1000,random_state=0)  # TODO: set hyperparameters\n",
        "\n",
        "X_embedded = tsne.fit_transform(X1)#per=38.1,39.6\n",
        "\n",
        "sns.scatterplot(X_embedded[:,0], X_embedded[:,1], hue=y1, legend='full', palette=palette)"
      ],
      "execution_count": null,
      "outputs": [
        {
          "output_type": "execute_result",
          "data": {
            "text/plain": [
              "<matplotlib.axes._subplots.AxesSubplot at 0xa02e38a408>"
            ]
          },
          "metadata": {
            "tags": []
          },
          "execution_count": 373
        },
        {
          "output_type": "display_data",
          "data": {
            "image/png": "[encoded data removed]",
            "text/plain": [
              "<Figure size 842.4x595.44 with 1 Axes>"
            ]
          },
          "metadata": {
            "tags": []
          }
        }
      ]
    },
    {
      "cell_type": "markdown",
      "metadata": {
        "id": "_YbMHsbafrno"
      },
      "source": [
        "Are the lines perfectly straight? Can you explain why? "
      ]
    },
    {
      "cell_type": "markdown",
      "metadata": {
        "id": "kIivfvfC7cc_"
      },
      "source": [
        "خیر .در نقاط نزیک به انتهای نقاط حالت خمیده و منحنی گرفته زیرا این نواحی چگال تر هستند وقسمتهای خالی کمتری دارندو تی اس ان ای سعی میکند چنین نقاطی را بیشترگسترش بدهد و در نتیجه حتی در بهترین حالت نیز مقداری انحراف مشاهده میشود"
      ]
    },
    {
      "cell_type": "code",
      "metadata": {
        "id": "_7KVlpqs7cdA"
      },
      "source": [
        ""
      ],
      "execution_count": null,
      "outputs": []
    }
  ]
}