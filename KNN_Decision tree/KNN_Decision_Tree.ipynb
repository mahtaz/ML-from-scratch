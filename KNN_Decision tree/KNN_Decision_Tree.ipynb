{
  "nbformat": 4,
  "nbformat_minor": 0,
  "metadata": {
    "kernelspec": {
      "display_name": "Python 3",
      "language": "python",
      "name": "python3"
    },
    "language_info": {
      "codemirror_mode": {
        "name": "ipython",
        "version": 3
      },
      "file_extension": ".py",
      "mimetype": "text/x-python",
      "name": "python",
      "nbconvert_exporter": "python",
      "pygments_lexer": "ipython3",
      "version": "3.7.3"
    },
    "colab": {
      "name": "KNN_Decision Tree.ipynb",
      "provenance": [],
      "collapsed_sections": []
    }
  },
  "cells": [
    {
      "cell_type": "markdown",
      "metadata": {
        "id": "4OfZaDxcxhN-"
      },
      "source": [
        "# importing libraries"
      ]
    },
    {
      "cell_type": "code",
      "metadata": {
        "id": "Uqwxinz3xLqT"
      },
      "source": [
        "import pandas as pd\n",
        "import numpy as np\n",
        "from collections import Counter\n",
        "import pandas as pd\n",
        "import matplotlib.pyplot as plt\n"
      ],
      "execution_count": null,
      "outputs": []
    },
    {
      "cell_type": "markdown",
      "metadata": {
        "id": "N_XZI7hzx8t0"
      },
      "source": [
        "# utility functions from scratch"
      ]
    },
    {
      "cell_type": "code",
      "metadata": {
        "id": "bmyoVntnxztZ"
      },
      "source": [
        "def euclidean_distance(x1, x2):\n",
        "        return (np.sum((x1 - x2)**2))**0.5\n",
        "\n",
        "def train_test_split(dataset):\n",
        "    l=int(0.8*len(dataset))\n",
        "    training_data = dataset[:l]  \n",
        "    testing_data = dataset[l:]  \n",
        "    return training_data,testing_data  \n",
        "\n",
        "def accuracy(actaull_y,predicted_y):\n",
        "    m=0\n",
        "    for i in range(len(actaull_y)):\n",
        "        if actaull_y[i] == predicted_y[i]:\n",
        "                m+=1\n",
        "    accuracy = m / len(predicted_y)\n",
        "    return accuracy\n",
        "\n",
        "\n",
        "def read_data(file_name):   #addressing by giving the file name\n",
        "    df=pd.read_csv(file_name)\n",
        "    xs=df[[\"age\",\"sex\",\"cp\",\"trestbps\",\"chol\",\"fbs\",\"restecg\",\"thalach\",\"exang\",\"oldpeak\",\"slope\",\"ca\",\"thal\"]]\n",
        "    ys=df[\"target\"]\n",
        "    x =xs.values #data_frame to np.array \n",
        "    y=ys.values\n",
        "    return x,y"
      ],
      "execution_count": null,
      "outputs": []
    },
    {
      "cell_type": "markdown",
      "metadata": {
        "id": "mBbw3d70yHtn"
      },
      "source": [
        "# KNN model from scratch"
      ]
    },
    {
      "cell_type": "code",
      "metadata": {
        "id": "CzQJyOv0yRQY"
      },
      "source": [
        "class KNN:\n",
        "\n",
        "    def __init__(self, k):\n",
        "        self.k = k\n",
        "\n",
        "    def fit(self, X, y):\n",
        "        self.X_train = X\n",
        "        self.y_train = y\n",
        "\n",
        "    def comparing(self, x):\n",
        "        distances,k_neighbor_labels=[],[]\n",
        "        for i in self.X_train:\n",
        "            distances.append(euclidean_distance(x, i))\n",
        "        ks = np.argsort(distances)[:self.k] #indexes of first n nearest neighbours\n",
        "        for i in ks:\n",
        "            k_neighbor_labels.append(self.y_train[i])\n",
        "        most_repeated = Counter(k_neighbor_labels).most_common(1)[0][0]\n",
        "        return most_repeated\n",
        "    \n",
        "    def predict(self, X):\n",
        "        predicted_y = np.array([self.comparing(x) for x in X])\n",
        "        return predicted_y\n",
        "    "
      ],
      "execution_count": null,
      "outputs": []
    },
    {
      "cell_type": "markdown",
      "metadata": {
        "id": "XSKzC5sDycEh"
      },
      "source": [
        "# load data "
      ]
    },
    {
      "cell_type": "code",
      "metadata": {
        "id": "4OQba-g8ycX_"
      },
      "source": [
        "X,y=read_data(\"heart.csv\")\n",
        "\n",
        "def shuffle(a, b):\n",
        "    s = np.random.permutation(len(a))\n",
        "    return a[s], b[s]\n",
        "X,y=shuffle(X,y)\n",
        "\n",
        "X_train, X_test = train_test_split(X)\n",
        "y_train, y_test=train_test_split(y)\n",
        "\n"
      ],
      "execution_count": null,
      "outputs": []
    },
    {
      "cell_type": "markdown",
      "metadata": {
        "id": "MLb-h-yWykD-"
      },
      "source": [
        "# train KNN"
      ]
    },
    {
      "cell_type": "code",
      "metadata": {
        "id": "PSuX2wp3xLqi",
        "outputId": "d9eaf0c0-d3bb-433a-ffd0-382af71ba980"
      },
      "source": [
        "\n",
        "\n",
        "l1,l2=[],[]\n",
        "f=[i for i in range(1,15)]\n",
        "Max=0\n",
        "for k in range(1,15):\n",
        "    clf = KNN(k)\n",
        "    \n",
        "    clf.fit(X_train, y_train)\n",
        "    predictions = clf.predict(X_test)\n",
        "    predictionss = clf.predict(X_train)\n",
        "    l1.append(accuracy(y_test, predictions))\n",
        "    l2.append(accuracy(y_train, predictionss))\n",
        "    if Max < accuracy(y_test, predictions):\n",
        "        Max=accuracy(y_test, predictions)\n",
        "        best_k=k\n",
        "       \n",
        "    print(\"accuracy for k:\",k, accuracy(y_test, predictions), accuracy(y_train, predictionss)) \n",
        "print(k) \n",
        "print(\"best k is:\",best_k)    \n",
        "plt.plot(f,l1,label = 'Testing  Accuracy')\n",
        "plt.plot(f,l2,label = 'Training  Accuracy')\n",
        "plt.legend() \n",
        "plt.xlabel('n_neighbors') \n",
        "plt.ylabel('Accuracy') \n",
        "plt.show() \n"
      ],
      "execution_count": null,
      "outputs": [
        {
          "output_type": "stream",
          "text": [
            "accuracy for k: 1 0.5573770491803278 1.0\n",
            "accuracy for k: 2 0.5573770491803278 1.0\n",
            "accuracy for k: 3 0.7049180327868853 0.8016528925619835\n",
            "accuracy for k: 4 0.639344262295082 0.9049586776859504\n",
            "accuracy for k: 5 0.6721311475409836 0.7644628099173554\n",
            "accuracy for k: 6 0.6885245901639344 0.8388429752066116\n",
            "accuracy for k: 7 0.7049180327868853 0.7272727272727273\n",
            "accuracy for k: 8 0.6557377049180327 0.8057851239669421\n",
            "accuracy for k: 9 0.6721311475409836 0.7024793388429752\n",
            "accuracy for k: 10 0.639344262295082 0.768595041322314\n",
            "accuracy for k: 11 0.6229508196721312 0.71900826446281\n",
            "accuracy for k: 12 0.6229508196721312 0.756198347107438\n",
            "accuracy for k: 13 0.6721311475409836 0.7024793388429752\n",
            "accuracy for k: 14 0.6557377049180327 0.7520661157024794\n",
            "14\n",
            "best k is: 3\n"
          ],
          "name": "stdout"
        },
        {
          "output_type": "display_data",
          "data": {
            "image/png": "[encoded data removed]",
            "text/plain": [
              "<Figure size 432x288 with 1 Axes>"
            ]
          },
          "metadata": {
            "tags": [],
            "needs_background": "light"
          }
        }
      ]
    },
    {
      "cell_type": "markdown",
      "metadata": {
        "id": "8kggaO3Nyxmi"
      },
      "source": [
        "# five fold"
      ]
    },
    {
      "cell_type": "code",
      "metadata": {
        "id": "1nXGk9KzxLqv",
        "outputId": "e52929f0-f656-4cce-ae1a-4c40ea4b12a3"
      },
      "source": [
        "df=pd.read_csv(\"heart.csv\")\n",
        "def read_data(df):\n",
        "\n",
        "    y1=[df.target[i] for i in range(len(df.age))]\n",
        "    xs=df[[\"age\",\"sex\",\"cp\",\"trestbps\",\"chol\",\"fbs\",\"restecg\",\"thalach\",\"exang\",\"oldpeak\",\"slope\",\"ca\",\"thal\"]]\n",
        "    X1 = xs.to_numpy().tolist()\n",
        "    X = np.asarray(X1)\n",
        "    y=np.asarray(y1)\n",
        "    return X,y\n",
        "X,y=read_data(df)\n",
        "X,y=shuffle(X,y)\n",
        "def k_fold_validation(x,y,k): #x an y must be shuffled\n",
        "\n",
        "    l=int(len(X)/5)\n",
        "    #print(len(X))\n",
        "    m,n=0,0\n",
        "    for i in range(1,6):\n",
        "        if i==5:\n",
        "            break\n",
        "        x1=np.split(X, [i*l, (i+1)*l])#spliting array into 3 parts the middle part is 1/5 of data and beside it are therest\n",
        "        y1=np.split(y, [i*l, (i+1)*l])\n",
        "        training_x,testing_x=np.concatenate((x1[0], x1[2])),x1[1]\n",
        "        training_y,testing_y=np.concatenate((y1[0], y1[2])),y1[1]\n",
        "       # print(len(y1[1]))\n",
        "        model=KNN(k=k)\n",
        "        model.fit(training_x,training_y)\n",
        "        predictions = model.predict(testing_x)\n",
        "        predictionss = model.predict(training_x)\n",
        "        m+=accuracy(testing_y, predictions)\n",
        "        n+=accuracy(training_y, predictionss)\n",
        "        #print(accuracy(testing_y, predictions),accuracy(training_y, predictionss))\n",
        "    training_x,testing_x=[X[:4*l], X[4*l+3:]]#+3 is for the split size to be 60 like othe four test_splits\n",
        "    training_y,testing_y=[y[:4*l], y[4*l+3:]]\n",
        "    #print(len(testing_y))\n",
        "    predictions = model.predict(testing_x)\n",
        "    predictionss = model.predict(training_x)\n",
        "    m+=accuracy(testing_y, predictions)\n",
        "    n+=accuracy(training_y, predictionss)\n",
        "   # print(\"mean test accuracy is:\",m/5,\"and mean training accuracy is:\",n/5)\n",
        "    return m/5 #mean of the 5 time spliting of data\n",
        "#testing cross validation for different ks\n",
        "Max=0\n",
        "for k in range(1,16):\n",
        "   # print(\"accuracy is:\",k_fold_validation(X,y,k),\"for k:\",k)\n",
        "    acc=k_fold_validation(X,y,k)\n",
        "    if acc>Max:\n",
        "        Max=acc\n",
        "        best_k=k\n",
        "print(\"best k_parameter with 5 fold cross validation is:\",best_k,\"and mean acc:\",Max)        \n",
        "    "
      ],
      "execution_count": null,
      "outputs": [
        {
          "output_type": "stream",
          "text": [
            "best k_parameter with 5 fold cross validation is: 14 and mean acc: 0.67\n"
          ],
          "name": "stdout"
        }
      ]
    },
    {
      "cell_type": "markdown",
      "metadata": {
        "id": "QIDvvpeP0CuJ"
      },
      "source": [
        "# Evaluation"
      ]
    },
    {
      "cell_type": "code",
      "metadata": {
        "id": "VVP4A-IWxLq1",
        "outputId": "ef3627ec-6127-495b-ab0c-395bec5e8e5b"
      },
      "source": [
        "\n",
        "clf=KNN(k=best_k)\n",
        "clf.fit(X_train,y_train)\n",
        "def confusion_matrix(y_test, y_pred):\n",
        "    TN,TP,FN,FP=0,0,0,0\n",
        "    for i in range(len(y_test)):\n",
        "        if y_test[i]==0 and clf.predict(X_test)[i]==0:\n",
        "            TN+=1\n",
        "        elif y_test[i]==1 and clf.predict(X_test)[i]==1:\n",
        "            TP+=1\n",
        "        elif y_test[i]==1 and clf.predict(X_test)[i]==0:\n",
        "            FN+=1   \n",
        "        else:\n",
        "            FP+=1\n",
        "            \n",
        "    return TN,TP,FN,FP   \n",
        "print(\"confusion_matrix knn\")\n",
        "print(\"TN,TP,FN,FP are:\")\n",
        "print(confusion_matrix(y_test, clf.predict(X_test)))\n",
        "print(\"\")\n",
        "\n",
        "def classification_report(y_test, y_pred):#accuracy, precision, recall, specificity, f1Score\n",
        "    TN,TP,FN,FP =confusion_matrix(y_test, y_pred)\n",
        "    totall=TN+TP+FN+FP\n",
        "    specificity=TN/(TN+FP)#True Negative)/(True Negative + False Positive\n",
        "    precision=TP/(TP+FP)\n",
        "    recall=TP/(TP+FN)\n",
        "    accuracy=(TP+TN)/totall\n",
        "    f1score=(2*precision*recall)/(precision+recall)\n",
        "    return accuracy, precision, recall, specificity, f1score\n",
        "print(\"classification report knn\")\n",
        "print(\"accuracy, precision, recall, specificity, f1Score are:\")\n",
        "print(classification_report(y_test, clf.predict(X_test)))\n",
        "KNN_pred=clf.predict(X_test)"
      ],
      "execution_count": null,
      "outputs": [
        {
          "output_type": "stream",
          "text": [
            "confusion_matrix knn\n",
            "TN,TP,FN,FP are:\n",
            "(14, 26, 9, 12)\n",
            "\n",
            "classification report knn\n",
            "accuracy, precision, recall, specificity, f1Score are:\n",
            "(0.6557377049180327, 0.6842105263157895, 0.7428571428571429, 0.5384615384615384, 0.7123287671232877)\n"
          ],
          "name": "stdout"
        }
      ]
    },
    {
      "cell_type": "markdown",
      "metadata": {
        "id": "pIDMoojQzI8z"
      },
      "source": [
        "# Decision tree"
      ]
    },
    {
      "cell_type": "code",
      "metadata": {
        "id": "vSaDXqeLzfar"
      },
      "source": [
        "import pandas as pd\n",
        "import numpy as np\n",
        "from collections import Counter\n",
        "class tree_node:\n",
        "    def __init__(self, feature=None, spliting_value=None, left=None, right=None, value=None):\n",
        "        self.feature = feature\n",
        "        self.spliting_value = spliting_value\n",
        "        self.left = left\n",
        "        self.right = right\n",
        "        self.value = value\n",
        "\n",
        "    def is_leaf_node(self):\n",
        "        return self.value is not None\n",
        "def entropy(labels):\n",
        "    probs = np.bincount(labels) / len(labels)\n",
        "   # print(probs)\n",
        "    c=0\n",
        "    for prob in probs:\n",
        "        if prob>0:\n",
        "            c+=-1*(prob * np.log2(prob))\n",
        "    return c\n",
        "\n",
        "def accuracy(actaull_y,predicted_y):\n",
        "    m=0\n",
        "    for i in range(len(actaull_y)):\n",
        "        if actaull_y[i] == predicted_y[i]:\n",
        "                m+=1\n",
        "    accuracy = m / len(predicted_y)\n",
        "    return accuracy\n",
        "\n",
        "\n",
        "class DecisionTree:\n",
        "\n",
        "    def __init__(self, max_depth=k,root=None,x_features=None,thresh=0.8):\n",
        "        self.max_depth = max_depth\n",
        "        self.x_features = x_features\n",
        "        self.root = None\n",
        "        self.thresh = thresh\n",
        "\n",
        "    def fit(self, X, y):\n",
        "        self.x_features = len(X[0]) if not self.x_features else min(self.x_features,len(X[0]))\n",
        "        self.root = self.build_tree(X, y)\n",
        "\n",
        "\n",
        "    def build_tree(self, X, y, depth=0):\n",
        "        \n",
        "        if (depth >= self.max_depth  or Counter(y).most_common(1)[0][1]/len(y)>= self.thresh ):\n",
        "            leaf_value = Counter(y).most_common(1)[0][0]\n",
        "            return tree_node(value=leaf_value)\n",
        "\n",
        "        feat_idxs = np.random.choice(len(X[0]), self.x_features, replace=False)\n",
        "        best_feat, best_value = self.final_split(X, y, feat_idxs)        \n",
        "\n",
        "        left_node, right_node = self.parent_split(X[:, best_feat], best_value)\n",
        "        left = self.build_tree(X[left_node, :], y[left_node], depth+1)\n",
        "        right = self.build_tree(X[right_node, :], y[right_node], depth+1)\n",
        "        return tree_node(best_feat, best_value, left, right)\n",
        "\n",
        "    def final_split(self, X, y, features):\n",
        "        max_gain = -99\n",
        "        for i in features:\n",
        "            X_sub = X[:, i] #each feature and its whole data as input to infogain\n",
        "            spliting_values = np.unique(X_sub)\n",
        "            for spliting_value in spliting_values:\n",
        "                infogain = self.info_gain(y, X_sub, spliting_value)\n",
        "\n",
        "                if infogain > max_gain:\n",
        "                    max_gain = infogain\n",
        "                    where_to_split = i\n",
        "                    split_boundry = spliting_value\n",
        "        return where_to_split, split_boundry\n",
        "\n",
        "    def info_gain(self, y, x, split_value):\n",
        "        parent_node_entropy = entropy(y)\n",
        "        left_node, right_node = self.parent_split(x, split_value)\n",
        "        left_node_entropy = (len(left_node) /len(y)) *entropy(y[left_node])\n",
        "        right_node_entropy =(len(right_node) / len(y)) * entropy(y[right_node])\n",
        "        info_gain = parent_node_entropy - right_node_entropy - left_node_entropy\n",
        "        return info_gain\n",
        "\n",
        "    def parent_split(self,x, split_boundry): #split a node to left and right like gini index\n",
        "        left_node,right_node=[],[]\n",
        "        for i in range(len(x)):\n",
        "            if x[i] <= split_boundry:\n",
        "                left_node.append(i)\n",
        "            else:\n",
        "                right_node.append(i)\n",
        "        return left_node,right_node\n",
        "\n",
        "    def tree_spliting(self, x, node):\n",
        "        if node.is_leaf_node():\n",
        "            return node.value\n",
        "        elif x[node.feature] <= node.spliting_value:\n",
        "            return self.tree_spliting(x, node.left)\n",
        "        else:   \n",
        "            return self.tree_spliting(x, node.right)\n",
        "\n",
        "    def predict(self, X):\n",
        "        l=[]\n",
        "        for i in X:\n",
        "            l.append(self.tree_spliting(i, self.root))\n",
        "        return np.array(l)\n",
        "  \n",
        "  "
      ],
      "execution_count": null,
      "outputs": []
    },
    {
      "cell_type": "markdown",
      "metadata": {
        "id": "MPhAMQ2lzqCu"
      },
      "source": [
        "# load data"
      ]
    },
    {
      "cell_type": "code",
      "metadata": {
        "id": "897yeQ1_zl0F"
      },
      "source": [
        "def read_data(file_name):   #addressing by giving the file name\n",
        "    df=pd.read_csv(file_name)\n",
        "    xs=df[[\"age\",\"sex\",\"cp\",\"trestbps\",\"chol\",\"fbs\",\"restecg\",\"thalach\",\"exang\",\"oldpeak\",\"slope\",\"ca\",\"thal\"]]\n",
        "    ys=df[\"target\"]\n",
        "    x =xs.values #data_frame to np.array \n",
        "    y=ys.values\n",
        "    return x,y\n",
        "X,y=read_data(\"heart.csv\")\n",
        "\n",
        "def train_test_split(dataset):\n",
        "    l=int(0.8*len(dataset))\n",
        "    training_data = dataset[:l]\n",
        "    testing_data = dataset[l:]  \n",
        "    return training_data,testing_data \n",
        "  \n",
        "def shuffle(x, y): #x,y both np arrays\n",
        "    s = np.random.permutation(len(x))\n",
        "    return x[s], y[s]\n",
        "X,y=shuffle(X,y)\n",
        "\n",
        "X_train, X_test = train_test_split(X)\n",
        "y_train, y_test=train_test_split(y)  \n"
      ],
      "execution_count": null,
      "outputs": []
    },
    {
      "cell_type": "markdown",
      "metadata": {
        "id": "c939Yf5Czvz0"
      },
      "source": [
        "# Train decision tree"
      ]
    },
    {
      "cell_type": "code",
      "metadata": {
        "id": "73fD53CDxLq4",
        "outputId": "596c5f52-8d6e-4146-ae70-3018c5f9b372"
      },
      "source": [
        "\n",
        "l1,l2=[],[]\n",
        "f=[i for i in range(1,15)]\n",
        "Max=0\n",
        "for max_depth in range(1,15):\n",
        "    clf = DecisionTree(max_depth)\n",
        "    \n",
        "    clf.fit(X_train, y_train)\n",
        "    predictions = clf.predict(X_test)\n",
        "    predictionss = clf.predict(X_train)\n",
        "    l1.append(accuracy(y_test, predictions))\n",
        "    l2.append(accuracy(y_train, predictionss))\n",
        "    if Max < accuracy(y_test, predictions):\n",
        "        Max=accuracy(y_test, predictions)\n",
        "        best_depth=max_depth\n",
        "       \n",
        "    print(\"accuracy for max_depth:\",max_depth, accuracy(y_test, predictions), accuracy(y_train, predictionss))  \n",
        "print(\"best max_depth is:\",best_depth)    \n",
        "plt.plot(f,l1,label = 'Testing  Accuracy')\n",
        "plt.plot(f,l2,label = 'Training  Accuracy')\n",
        "plt.legend() \n",
        "plt.xlabel('max_depth') \n",
        "plt.ylabel('Accuracy') \n",
        "plt.show()\n"
      ],
      "execution_count": null,
      "outputs": [
        {
          "output_type": "stream",
          "text": [
            "accuracy for max_depth: 1 0.6885245901639344 0.7768595041322314\n",
            "accuracy for max_depth: 2 0.6885245901639344 0.7768595041322314\n",
            "accuracy for max_depth: 3 0.819672131147541 0.8429752066115702\n",
            "accuracy for max_depth: 4 0.819672131147541 0.8677685950413223\n",
            "accuracy for max_depth: 5 0.7868852459016393 0.8842975206611571\n",
            "accuracy for max_depth: 6 0.819672131147541 0.8925619834710744\n",
            "accuracy for max_depth: 7 0.8032786885245902 0.9008264462809917\n",
            "accuracy for max_depth: 8 0.7868852459016393 0.8966942148760331\n",
            "accuracy for max_depth: 9 0.7868852459016393 0.9008264462809917\n",
            "accuracy for max_depth: 10 0.819672131147541 0.9132231404958677\n",
            "accuracy for max_depth: 11 0.819672131147541 0.9090909090909091\n",
            "accuracy for max_depth: 12 0.8688524590163934 0.9132231404958677\n",
            "accuracy for max_depth: 13 0.7868852459016393 0.9008264462809917\n",
            "accuracy for max_depth: 14 0.8524590163934426 0.9132231404958677\n",
            "best max_depth is: 12\n"
          ],
          "name": "stdout"
        },
        {
          "output_type": "display_data",
          "data": {
            "image/png": "[encoded data removed]",
            "text/plain": [
              "<Figure size 432x288 with 1 Axes>"
            ]
          },
          "metadata": {
            "tags": [],
            "needs_background": "light"
          }
        }
      ]
    },
    {
      "cell_type": "markdown",
      "metadata": {
        "id": "oHDAr_eN0K61"
      },
      "source": [
        "# five fold validation"
      ]
    },
    {
      "cell_type": "code",
      "metadata": {
        "id": "u_c0iJMJxLq9",
        "outputId": "11bdfcdd-e7a4-481a-bc68-ec0f56937ec2"
      },
      "source": [
        "def k_fold_validation(x,y,max_depth): #x an y must be shuffled\n",
        "\n",
        "    l=int(len(X)/5)\n",
        "    #print(len(X))\n",
        "    m,n=0,0\n",
        "    for i in range(1,6):\n",
        "        if i==5:\n",
        "            break\n",
        "        x1=np.split(X, [i*l, (i+1)*l])#spliting array into 3 parts the middle part is 1/5 of data and beside it are therest\n",
        "        y1=np.split(y, [i*l, (i+1)*l])\n",
        "        training_x,testing_x=np.concatenate((x1[0], x1[2])),x1[1]\n",
        "        training_y,testing_y=np.concatenate((y1[0], y1[2])),y1[1]\n",
        "       # print(len(y1[1]))\n",
        "        model=DecisionTree(max_depth)\n",
        "        model.fit(training_x,training_y)\n",
        "        predictions = model.predict(testing_x)\n",
        "        predictionss = model.predict(training_x)\n",
        "        m+=accuracy(testing_y, predictions)\n",
        "        n+=accuracy(training_y, predictionss)\n",
        "        #print(accuracy(testing_y, predictions),accuracy(training_y, predictionss))\n",
        "    training_x,testing_x=[X[:4*l], X[4*l+3:]]\n",
        "    training_y,testing_y=[y[:4*l], y[4*l+3:]]\n",
        "    #print(len(testing_y))\n",
        "    predictions = model.predict(testing_x)\n",
        "    predictionss = model.predict(training_x)\n",
        "    m+=accuracy(testing_y, predictions)\n",
        "    n+=accuracy(training_y, predictionss)\n",
        "   # print(\"mean test accuracy is:\",m/5,\"and mean training accuracy is:\",n/5)\n",
        "    return m/5\n",
        "#testing cross validation for different max_depths\n",
        "Max_acc=0\n",
        "for max_depth in range(1,14):\n",
        "   # print(\"accuracy is:\",k_fold_validation(X,y,k),\"for k:\",k)\n",
        "    acc=k_fold_validation(X,y,k)\n",
        "    if acc>Max_acc:\n",
        "        Max_acc=acc\n",
        "        best_max_depth=max_depth\n",
        "print(\"best max_depth_parameter is:\",best_max_depth,\"mean acc is:\",Max_acc)"
      ],
      "execution_count": null,
      "outputs": [
        {
          "output_type": "stream",
          "text": [
            "best max_depth_parameter is: 7 mean acc is: 0.8266666666666665\n"
          ],
          "name": "stdout"
        }
      ]
    },
    {
      "cell_type": "markdown",
      "metadata": {
        "id": "0K83X3wyz4kC"
      },
      "source": [
        "# Evaluation"
      ]
    },
    {
      "cell_type": "code",
      "metadata": {
        "id": "4aiJwdyMxLrA",
        "outputId": "757ca2ce-4685-42ed-ad75-21152839ddff"
      },
      "source": [
        "clf=DecisionTree(best_max_depth)\n",
        "clf.fit(X_train,y_train)\n",
        " \n",
        "print(\"confusion_matrix for desicion tree\")\n",
        "print(\"TN,TP,FN,FP are:\")\n",
        "print(confusion_matrix(y_test, clf.predict(X_test)))\n",
        "print(\"\")\n",
        "\n",
        "\n",
        "print(\"classification report for descison\")\n",
        "print(\"accuracy, precision, recall, specificity, f1Score are:\")\n",
        "print(classification_report(y_test, clf.predict(X_test)))\n",
        "decision_pred=clf.predict(X_test)\n"
      ],
      "execution_count": null,
      "outputs": [
        {
          "output_type": "stream",
          "text": [
            "confusion_matrix for desicion tree\n",
            "TN,TP,FN,FP are:\n",
            "(16, 34, 6, 5)\n",
            "\n",
            "classification report for descison\n",
            "accuracy, precision, recall, specificity, f1Score are:\n",
            "(0.819672131147541, 0.8717948717948718, 0.85, 0.7619047619047619, 0.8607594936708861)\n"
          ],
          "name": "stdout"
        }
      ]
    },
    {
      "cell_type": "markdown",
      "metadata": {
        "id": "G4-PLdOn0Sk8"
      },
      "source": [
        "#t_test \n",
        "**has knn or decision tree has better performance??**\n",
        "\n",
        "## null hypothesis:two models are the same"
      ]
    },
    {
      "cell_type": "code",
      "metadata": {
        "id": "YjtmVrvTxLrE",
        "outputId": "bfb9db19-7537-46ea-b2d4-0019dc3dde43"
      },
      "source": [
        "knn_error,tree_error=[0 for i in range(len(y_test))],[0 for i in range(len(y_test))]\n",
        "for i in range(len(y_test)):\n",
        "    if y_test[i]!=decision_pred[i]:\n",
        "        tree_error[i]=1\n",
        "    if y_test[i]!=KNN_pred[i]:\n",
        "        knn_error[i]=1\n",
        "\n",
        "mu_a,mu_b= np.mean(knn_error),np.mean(tree_error)\n",
        "d_bar = mu_a-mu_b\n",
        "\n",
        "a_hat=[knn_error[i]-mu_a  for i in range(len(y_test))]\n",
        "b_hat=[tree_error[i]-mu_b  for i in range(len(y_test))]\n",
        "diff=[(a_hat[i]-b_hat[i])**2  for i in range(len(y_test))]\n",
        "\n",
        "n = len(y_test)\n",
        "t_static =  d_bar * np.sqrt((n*n-1)/np.sum(diff))\n",
        "print(\"t : \",t_static)\n",
        "if abs(t_static)<=1.96:# under the 97.5% signifance\n",
        "    print(\"fail to reject the null hypothesis\")# two models are the same\n",
        "    print(\"two models are the same\")\n",
        "else:\n",
        "    print(\"reject the null hypothesis!\")# two models are different\n",
        "    print(\"two models arent the same\")"
      ],
      "execution_count": null,
      "outputs": [
        {
          "output_type": "stream",
          "text": [
            "t :  4.348942475949504\n",
            "reject the null hypothesis!\n",
            "two models arent the same\n"
          ],
          "name": "stdout"
        }
      ]
    },
    {
      "cell_type": "code",
      "metadata": {
        "id": "VEJ-hDUkxLrH",
        "outputId": "fb5f5783-6b7f-40c4-be45-03f9e0077c5d"
      },
      "source": [
        "from scipy import stats\n",
        "stats.ttest_rel(knn_error,tree_error)"
      ],
      "execution_count": null,
      "outputs": [
        {
          "output_type": "execute_result",
          "data": {
            "text/plain": [
              "Ttest_relResult(statistic=4.313727787271749, pvalue=6.0835493767771193e-05)"
            ]
          },
          "metadata": {
            "tags": []
          },
          "execution_count": 144
        }
      ]
    }
  ]
}